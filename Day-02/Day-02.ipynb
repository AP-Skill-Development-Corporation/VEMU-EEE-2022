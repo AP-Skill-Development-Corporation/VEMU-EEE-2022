{
 "cells": [
  {
   "cell_type": "markdown",
   "id": "f24e7719",
   "metadata": {},
   "source": [
    "# Python Basics"
   ]
  },
  {
   "cell_type": "markdown",
   "id": "3e02b7b6",
   "metadata": {},
   "source": [
    "## Variables:\n",
    "    - To store a value \n",
    "    - To change a value"
   ]
  },
  {
   "cell_type": "code",
   "execution_count": 1,
   "id": "f353ed89",
   "metadata": {},
   "outputs": [
    {
     "data": {
      "text/plain": [
       "45"
      ]
     },
     "execution_count": 1,
     "metadata": {},
     "output_type": "execute_result"
    }
   ],
   "source": [
    "s = 45\n",
    "s"
   ]
  },
  {
   "cell_type": "code",
   "execution_count": 2,
   "id": "17f2ba22",
   "metadata": {},
   "outputs": [
    {
     "data": {
      "text/plain": [
       "47"
      ]
     },
     "execution_count": 2,
     "metadata": {},
     "output_type": "execute_result"
    }
   ],
   "source": [
    "f = 47\n",
    "g = 29\n",
    "g\n",
    "f"
   ]
  },
  {
   "cell_type": "code",
   "execution_count": 4,
   "id": "61308182",
   "metadata": {},
   "outputs": [
    {
     "data": {
      "text/plain": [
       "(29, 47)"
      ]
     },
     "execution_count": 4,
     "metadata": {},
     "output_type": "execute_result"
    }
   ],
   "source": [
    "g,f"
   ]
  },
  {
   "cell_type": "code",
   "execution_count": 5,
   "id": "6a2c7718",
   "metadata": {},
   "outputs": [
    {
     "data": {
      "text/plain": [
       "(29, 100, 47)"
      ]
     },
     "execution_count": 5,
     "metadata": {},
     "output_type": "execute_result"
    }
   ],
   "source": [
    "k = 100\n",
    "g,k,f"
   ]
  },
  {
   "cell_type": "code",
   "execution_count": 6,
   "id": "0caf27ea",
   "metadata": {},
   "outputs": [
    {
     "name": "stdout",
     "output_type": "stream",
     "text": [
      "29 100 47\n"
     ]
    }
   ],
   "source": [
    "print(g,k,f)"
   ]
  },
  {
   "cell_type": "code",
   "execution_count": 7,
   "id": "3a765266",
   "metadata": {},
   "outputs": [
    {
     "data": {
      "text/plain": [
       "'78'"
      ]
     },
     "execution_count": 7,
     "metadata": {},
     "output_type": "execute_result"
    }
   ],
   "source": [
    "b = '78'\n",
    "b"
   ]
  },
  {
   "cell_type": "code",
   "execution_count": 8,
   "id": "d99f4780",
   "metadata": {},
   "outputs": [
    {
     "name": "stdout",
     "output_type": "stream",
     "text": [
      "78\n"
     ]
    }
   ],
   "source": [
    "print(b)"
   ]
  },
  {
   "cell_type": "code",
   "execution_count": 10,
   "id": "04f9373a",
   "metadata": {},
   "outputs": [
    {
     "ename": "ValueError",
     "evalue": "not enough values to unpack (expected 3, got 2)",
     "output_type": "error",
     "traceback": [
      "\u001b[1;31m-------------------------------------------------------------------------\u001b[0m",
      "\u001b[1;31mValueError\u001b[0m                              Traceback (most recent call last)",
      "\u001b[1;32m<ipython-input-10-bbcd98c4f4ff>\u001b[0m in \u001b[0;36m<module>\u001b[1;34m\u001b[0m\n\u001b[1;32m----> 1\u001b[1;33m \u001b[0mt\u001b[0m\u001b[1;33m,\u001b[0m\u001b[0mn\u001b[0m\u001b[1;33m,\u001b[0m\u001b[0mk\u001b[0m \u001b[1;33m=\u001b[0m \u001b[1;34m'745'\u001b[0m\u001b[1;33m,\u001b[0m\u001b[1;36m45.00\u001b[0m\u001b[1;33m\u001b[0m\u001b[1;33m\u001b[0m\u001b[0m\n\u001b[0m\u001b[0;32m      2\u001b[0m \u001b[0mprint\u001b[0m\u001b[1;33m(\u001b[0m\u001b[0mt\u001b[0m\u001b[1;33m,\u001b[0m\u001b[0mn\u001b[0m\u001b[1;33m)\u001b[0m\u001b[1;33m\u001b[0m\u001b[1;33m\u001b[0m\u001b[0m\n",
      "\u001b[1;31mValueError\u001b[0m: not enough values to unpack (expected 3, got 2)"
     ]
    }
   ],
   "source": [
    "t,n,k = '745',45.00\n",
    "print(t,n)"
   ]
  },
  {
   "cell_type": "code",
   "execution_count": 11,
   "id": "c407a845",
   "metadata": {},
   "outputs": [
    {
     "name": "stdout",
     "output_type": "stream",
     "text": [
      "45 45 45\n"
     ]
    }
   ],
   "source": [
    "j = m = k = 45\n",
    "print(j,k,m)"
   ]
  },
  {
   "cell_type": "markdown",
   "id": "afae1a03",
   "metadata": {},
   "source": [
    "## Data Types:\n",
    "    - int -> only integers\n",
    "    - float -> decimal or integer values\n",
    "    - string -> enclosed with ' or \"\n",
    "    - complex -> real and imaginary part\n",
    "    - boolean -> True,False,None\n",
    "    - All Data Structures [list,tuple,set and dictionary]"
   ]
  },
  {
   "cell_type": "markdown",
   "id": "3c41195e",
   "metadata": {},
   "source": [
    "## Type method\n",
    "    - To know the data type of a variable"
   ]
  },
  {
   "cell_type": "code",
   "execution_count": 12,
   "id": "a338c188",
   "metadata": {},
   "outputs": [
    {
     "name": "stdout",
     "output_type": "stream",
     "text": [
      "12 <class 'int'>\n",
      "50.0 <class 'float'>\n",
      "ramesh <class 'str'>\n",
      "45 <class 'int'>\n",
      "False <class 'bool'>\n"
     ]
    }
   ],
   "source": [
    "t,b,u,i,m = 12,50.00,'ramesh','78',False\n",
    "print(t,type(t))\n",
    "print(b,type(b))\n",
    "print(u,type(u))\n",
    "print(j,type(j))\n",
    "print(m,type(m))"
   ]
  },
  {
   "cell_type": "code",
   "execution_count": 13,
   "id": "7cca0856",
   "metadata": {},
   "outputs": [
    {
     "data": {
      "text/plain": [
       "str"
      ]
     },
     "execution_count": 13,
     "metadata": {},
     "output_type": "execute_result"
    }
   ],
   "source": [
    "d = '7920'\n",
    "type(d)"
   ]
  },
  {
   "cell_type": "markdown",
   "id": "d3e16cc0",
   "metadata": {},
   "source": [
    "### Dynamic Programming\n",
    "    - input method\n",
    "    - By default it stores string data type value\n",
    "    - It hads two mechanisms\n",
    "        => it displays an info to a user\n",
    "        => It reads a value from user"
   ]
  },
  {
   "cell_type": "code",
   "execution_count": 1,
   "id": "5f92d6fb",
   "metadata": {},
   "outputs": [
    {
     "name": "stdout",
     "output_type": "stream",
     "text": [
      "Enter a value: 45\n",
      "45 <class 'str'>\n"
     ]
    }
   ],
   "source": [
    "n = input(\"Enter a value: \")\n",
    "print(n,type(n))"
   ]
  },
  {
   "cell_type": "code",
   "execution_count": 15,
   "id": "91fad56b",
   "metadata": {},
   "outputs": [
    {
     "data": {
      "text/plain": [
       "45"
      ]
     },
     "execution_count": 15,
     "metadata": {},
     "output_type": "execute_result"
    }
   ],
   "source": [
    "h = 45\n",
    "h"
   ]
  },
  {
   "cell_type": "code",
   "execution_count": 2,
   "id": "fffe4a62",
   "metadata": {},
   "outputs": [
    {
     "name": "stdout",
     "output_type": "stream",
     "text": [
      "Enter a value: 20\n",
      "Enter b value: 52\n",
      "52 <class 'str'> 20 <class 'str'>\n"
     ]
    }
   ],
   "source": [
    "n,g = input(\"Enter a value: \"),input(\"Enter b value: \")\n",
    "print(g,type(g),n,type(n))"
   ]
  },
  {
   "cell_type": "code",
   "execution_count": null,
   "id": "92287e96",
   "metadata": {},
   "outputs": [],
   "source": []
  }
 ],
 "metadata": {
  "kernelspec": {
   "display_name": "Python 3",
   "language": "python",
   "name": "python3"
  },
  "language_info": {
   "codemirror_mode": {
    "name": "ipython",
    "version": 3
   },
   "file_extension": ".py",
   "mimetype": "text/x-python",
   "name": "python",
   "nbconvert_exporter": "python",
   "pygments_lexer": "ipython3",
   "version": "3.7.5"
  }
 },
 "nbformat": 4,
 "nbformat_minor": 5
}
