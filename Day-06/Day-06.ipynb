{
 "cells": [
  {
   "cell_type": "markdown",
   "id": "d0e6619e",
   "metadata": {},
   "source": [
    "## Dictionary:\n",
    "    - It can be represented as {}\n",
    "    - By default {} is dictionary\n",
    "    - It stores the data in key and value pair format\n",
    "    - Keys cant allow duplicates but values can\n",
    "    - It can be typecasted as dict() but it should follows the key and value pair\n",
    "    - Slicing can be done for only values but not keys"
   ]
  },
  {
   "cell_type": "code",
   "execution_count": 1,
   "id": "c0740f89",
   "metadata": {},
   "outputs": [
    {
     "name": "stdout",
     "output_type": "stream",
     "text": [
      "{} <class 'dict'>\n"
     ]
    }
   ],
   "source": [
    "f = {}\n",
    "print(f,type(f))"
   ]
  },
  {
   "cell_type": "code",
   "execution_count": 5,
   "id": "9ee16115",
   "metadata": {},
   "outputs": [
    {
     "name": "stdout",
     "output_type": "stream",
     "text": [
      "{'name': 'rajesh', 'rollno': 452, 'sal': 45200}\n"
     ]
    }
   ],
   "source": [
    "g = {\"name\":\"rajesh\",\"rollno\":452,\"sal\":[15420,15420,46556],'sal':45200}\n",
    "print(g)"
   ]
  },
  {
   "cell_type": "code",
   "execution_count": 6,
   "id": "a6d81714",
   "metadata": {},
   "outputs": [
    {
     "name": "stdout",
     "output_type": "stream",
     "text": [
      "rajesh\n"
     ]
    }
   ],
   "source": [
    "print(g['name'])"
   ]
  },
  {
   "cell_type": "code",
   "execution_count": 9,
   "id": "35d53b76",
   "metadata": {},
   "outputs": [
    {
     "name": "stdout",
     "output_type": "stream",
     "text": [
      "{'names': ['rajesh', 'lalitha', 'somu'], 'roll': [45, 78]}\n"
     ]
    }
   ],
   "source": [
    "t = {'names':['rajesh','lalitha','somu'],'roll':[45,78]}\n",
    "print(t)"
   ]
  },
  {
   "cell_type": "code",
   "execution_count": 11,
   "id": "696f3984",
   "metadata": {},
   "outputs": [
    {
     "name": "stdout",
     "output_type": "stream",
     "text": [
      "lalitha\n"
     ]
    }
   ],
   "source": [
    "print(t['names'][1])"
   ]
  },
  {
   "cell_type": "code",
   "execution_count": 12,
   "id": "f635bbf7",
   "metadata": {},
   "outputs": [
    {
     "name": "stdout",
     "output_type": "stream",
     "text": [
      "['__class__', '__contains__', '__delattr__', '__delitem__', '__dir__', '__doc__', '__eq__', '__format__', '__ge__', '__getattribute__', '__getitem__', '__gt__', '__hash__', '__init__', '__init_subclass__', '__iter__', '__le__', '__len__', '__lt__', '__ne__', '__new__', '__reduce__', '__reduce_ex__', '__repr__', '__setattr__', '__setitem__', '__sizeof__', '__str__', '__subclasshook__', 'clear', 'copy', 'fromkeys', 'get', 'items', 'keys', 'pop', 'popitem', 'setdefault', 'update', 'values']\n"
     ]
    }
   ],
   "source": [
    "print(dir(dict))"
   ]
  },
  {
   "cell_type": "code",
   "execution_count": 38,
   "id": "6cdc522e",
   "metadata": {},
   "outputs": [
    {
     "ename": "TypeError",
     "evalue": "unhashable type: 'list'",
     "output_type": "error",
     "traceback": [
      "\u001b[1;31m---------------------------------------------------------------------------\u001b[0m",
      "\u001b[1;31mTypeError\u001b[0m                                 Traceback (most recent call last)",
      "\u001b[1;32m<ipython-input-38-e63d8dba908f>\u001b[0m in \u001b[0;36m<module>\u001b[1;34m\u001b[0m\n\u001b[0;32m      4\u001b[0m \u001b[1;31m# y = [[1,2,3,4],['manikanta','prasad'],[20,60]]\u001b[0m\u001b[1;33m\u001b[0m\u001b[1;33m\u001b[0m\u001b[1;33m\u001b[0m\u001b[0m\n\u001b[0;32m      5\u001b[0m \u001b[1;32mfor\u001b[0m \u001b[0mi\u001b[0m \u001b[1;32min\u001b[0m \u001b[0ms\u001b[0m\u001b[1;33m:\u001b[0m\u001b[1;33m\u001b[0m\u001b[1;33m\u001b[0m\u001b[0m\n\u001b[1;32m----> 6\u001b[1;33m     \u001b[0mz\u001b[0m \u001b[1;33m=\u001b[0m \u001b[0mz\u001b[0m\u001b[1;33m.\u001b[0m\u001b[0mfromkeys\u001b[0m\u001b[1;33m(\u001b[0m\u001b[1;33m{\u001b[0m\u001b[0ms\u001b[0m\u001b[1;33m:\u001b[0m\u001b[0mi\u001b[0m\u001b[1;33m}\u001b[0m\u001b[1;33m)\u001b[0m\u001b[1;33m\u001b[0m\u001b[1;33m\u001b[0m\u001b[0m\n\u001b[0m\u001b[0;32m      7\u001b[0m \u001b[0mz\u001b[0m\u001b[1;33m\u001b[0m\u001b[1;33m\u001b[0m\u001b[0m\n",
      "\u001b[1;31mTypeError\u001b[0m: unhashable type: 'list'"
     ]
    }
   ],
   "source": [
    "z = {}\n",
    "s = ['sno','name','age']\n",
    "r = [1,'ramu',50]\n",
    "# y = [[1,2,3,4],['manikanta','prasad'],[20,60]]\n",
    "for i in s:\n",
    "    z = z.fromkeys({s:i})\n",
    "z"
   ]
  },
  {
   "cell_type": "code",
   "execution_count": 39,
   "id": "20b970f8",
   "metadata": {},
   "outputs": [
    {
     "name": "stdout",
     "output_type": "stream",
     "text": [
      "{'names': ['rajesh', 'lalitha', 'somu'], 'roll': [45, 78]}\n"
     ]
    }
   ],
   "source": [
    "print(t)"
   ]
  },
  {
   "cell_type": "code",
   "execution_count": 40,
   "id": "e496fdab",
   "metadata": {},
   "outputs": [
    {
     "name": "stdout",
     "output_type": "stream",
     "text": [
      "['rajesh', 'lalitha', 'somu']\n"
     ]
    }
   ],
   "source": [
    "print(t['names'])"
   ]
  },
  {
   "cell_type": "code",
   "execution_count": 41,
   "id": "45b67d27",
   "metadata": {},
   "outputs": [
    {
     "data": {
      "text/plain": [
       "['rajesh', 'lalitha', 'somu']"
      ]
     },
     "execution_count": 41,
     "metadata": {},
     "output_type": "execute_result"
    }
   ],
   "source": [
    "t.get('names')"
   ]
  },
  {
   "cell_type": "code",
   "execution_count": 42,
   "id": "74be8827",
   "metadata": {},
   "outputs": [
    {
     "name": "stdout",
     "output_type": "stream",
     "text": [
      "dict_items([('names', ['rajesh', 'lalitha', 'somu']), ('roll', [45, 78])])\n"
     ]
    }
   ],
   "source": [
    "print(t.items())"
   ]
  },
  {
   "cell_type": "code",
   "execution_count": 43,
   "id": "45e68189",
   "metadata": {},
   "outputs": [
    {
     "name": "stdout",
     "output_type": "stream",
     "text": [
      "dict_keys(['names', 'roll'])\n"
     ]
    }
   ],
   "source": [
    "print(t.keys())"
   ]
  },
  {
   "cell_type": "code",
   "execution_count": 44,
   "id": "d3142bff",
   "metadata": {},
   "outputs": [
    {
     "name": "stdout",
     "output_type": "stream",
     "text": [
      "dict_values([['rajesh', 'lalitha', 'somu'], [45, 78]])\n"
     ]
    }
   ],
   "source": [
    "print(t.values())"
   ]
  },
  {
   "cell_type": "code",
   "execution_count": 45,
   "id": "730fc8c8",
   "metadata": {},
   "outputs": [
    {
     "name": "stdout",
     "output_type": "stream",
     "text": [
      "{'names': ['rajesh', 'lalitha', 'somu'], 'roll': [45, 78]}\n"
     ]
    },
    {
     "ename": "TypeError",
     "evalue": "pop expected at least 1 arguments, got 0",
     "output_type": "error",
     "traceback": [
      "\u001b[1;31m---------------------------------------------------------------------------\u001b[0m",
      "\u001b[1;31mTypeError\u001b[0m                                 Traceback (most recent call last)",
      "\u001b[1;32m<ipython-input-45-21559998056d>\u001b[0m in \u001b[0;36m<module>\u001b[1;34m\u001b[0m\n\u001b[0;32m      1\u001b[0m \u001b[0mprint\u001b[0m\u001b[1;33m(\u001b[0m\u001b[0mt\u001b[0m\u001b[1;33m)\u001b[0m\u001b[1;33m\u001b[0m\u001b[1;33m\u001b[0m\u001b[0m\n\u001b[1;32m----> 2\u001b[1;33m \u001b[0mt\u001b[0m\u001b[1;33m.\u001b[0m\u001b[0mpop\u001b[0m\u001b[1;33m(\u001b[0m\u001b[1;33m)\u001b[0m\u001b[1;33m\u001b[0m\u001b[1;33m\u001b[0m\u001b[0m\n\u001b[0m\u001b[0;32m      3\u001b[0m \u001b[0mprint\u001b[0m\u001b[1;33m(\u001b[0m\u001b[0mt\u001b[0m\u001b[1;33m)\u001b[0m\u001b[1;33m\u001b[0m\u001b[1;33m\u001b[0m\u001b[0m\n",
      "\u001b[1;31mTypeError\u001b[0m: pop expected at least 1 arguments, got 0"
     ]
    }
   ],
   "source": [
    "print(t)\n",
    "t.pop()\n",
    "print(t)"
   ]
  },
  {
   "cell_type": "code",
   "execution_count": 46,
   "id": "f412a195",
   "metadata": {},
   "outputs": [
    {
     "name": "stdout",
     "output_type": "stream",
     "text": [
      "{'names': ['rajesh', 'lalitha', 'somu'], 'roll': [45, 78]}\n",
      "{'names': ['rajesh', 'lalitha', 'somu']}\n"
     ]
    }
   ],
   "source": [
    "print(t)\n",
    "t.pop('roll')\n",
    "print(t)"
   ]
  },
  {
   "cell_type": "code",
   "execution_count": 47,
   "id": "b4e1a6e0",
   "metadata": {},
   "outputs": [
    {
     "name": "stdout",
     "output_type": "stream",
     "text": [
      "{'names': ['rajesh', 'lalitha', 'somu']}\n",
      "{'names': ['rajesh', 'lalitha', 'somu'], 'sal': [20120, 546465]}\n"
     ]
    }
   ],
   "source": [
    "print(t)\n",
    "t['sal'] = [20120,546465]\n",
    "print(t)"
   ]
  },
  {
   "cell_type": "code",
   "execution_count": 48,
   "id": "29e9e6c0",
   "metadata": {},
   "outputs": [
    {
     "name": "stdout",
     "output_type": "stream",
     "text": [
      "{'names': ['rajesh', 'lalitha', 'somu'], 'sal': [20120, 546465]}\n",
      "{'names': ['rajesh', 'lalitha', 'somu']}\n"
     ]
    }
   ],
   "source": [
    "print(t)\n",
    "t.popitem()\n",
    "print(t)"
   ]
  },
  {
   "cell_type": "code",
   "execution_count": 49,
   "id": "befc3e45",
   "metadata": {},
   "outputs": [
    {
     "name": "stdout",
     "output_type": "stream",
     "text": [
      "{'names': ['rajesh', 'lalitha', 'somu']}\n",
      "{'names': ['rajesh', 'lalitha', 'somu'], 'age': None}\n"
     ]
    }
   ],
   "source": [
    "print(t)\n",
    "t.setdefault('age')\n",
    "print(t)"
   ]
  },
  {
   "cell_type": "code",
   "execution_count": 50,
   "id": "75ac570d",
   "metadata": {},
   "outputs": [
    {
     "ename": "SyntaxError",
     "evalue": "invalid syntax (<ipython-input-50-6bed9fd64500>, line 2)",
     "output_type": "error",
     "traceback": [
      "\u001b[1;36m  File \u001b[1;32m\"<ipython-input-50-6bed9fd64500>\"\u001b[1;36m, line \u001b[1;32m2\u001b[0m\n\u001b[1;33m    t.setdefault('age':25)\u001b[0m\n\u001b[1;37m                      ^\u001b[0m\n\u001b[1;31mSyntaxError\u001b[0m\u001b[1;31m:\u001b[0m invalid syntax\n"
     ]
    }
   ],
   "source": [
    "print(t)\n",
    "t.setdefault('age':25)\n",
    "print(t)"
   ]
  },
  {
   "cell_type": "code",
   "execution_count": 51,
   "id": "f262f379",
   "metadata": {},
   "outputs": [
    {
     "name": "stdout",
     "output_type": "stream",
     "text": [
      "None\n"
     ]
    }
   ],
   "source": [
    "print(t.get('age'))"
   ]
  },
  {
   "cell_type": "code",
   "execution_count": 52,
   "id": "d1b2a341",
   "metadata": {},
   "outputs": [
    {
     "name": "stdout",
     "output_type": "stream",
     "text": [
      "{'names': ['rajesh', 'lalitha', 'somu'], 'age': None}\n",
      "{'names': ['rajesh', 'lalitha', 'somu'], 'age': 48}\n"
     ]
    }
   ],
   "source": [
    "print(t)\n",
    "t['age'] = 48\n",
    "print(t)"
   ]
  },
  {
   "cell_type": "code",
   "execution_count": 53,
   "id": "f1333ea6",
   "metadata": {},
   "outputs": [
    {
     "name": "stdout",
     "output_type": "stream",
     "text": [
      "{'names': ['rajesh', 'lalitha', 'somu'], 'age': 48}\n",
      "{'names': ['rajesh', 'lalitha', 'somu'], 'age': 20}\n"
     ]
    }
   ],
   "source": [
    "print(t)\n",
    "t.update({'age':20})\n",
    "print(t)"
   ]
  },
  {
   "cell_type": "code",
   "execution_count": 54,
   "id": "1a5972d3",
   "metadata": {},
   "outputs": [
    {
     "name": "stdout",
     "output_type": "stream",
     "text": [
      "dict_values([['rajesh', 'lalitha', 'somu'], 20])\n"
     ]
    }
   ],
   "source": [
    "print(t.values())"
   ]
  },
  {
   "cell_type": "code",
   "execution_count": 60,
   "id": "730e645f",
   "metadata": {},
   "outputs": [
    {
     "name": "stdout",
     "output_type": "stream",
     "text": [
      "Enter how many records you need to insert: 3\n",
      "Enter Student Name: ramu\n",
      "Enter Studnet Year: 4\n",
      "Enter Student Name: somu\n",
      "Enter Studnet Year: 2\n",
      "Enter Student Name: kiran3\n",
      "Enter Studnet Year: 3\n",
      "{'204M1A0201': ['ramu', 4], '204M1A0202': ['somu', 2], '204M1A0203': ['kiran3', 3]}\n"
     ]
    }
   ],
   "source": [
    "ty = {}\n",
    "n = int(input(\"Enter how many records you need to insert: \"))\n",
    "for i in range(1,n+1):\n",
    "    sname=input(\"Enter Student Name: \")\n",
    "    syr = int(input(\"Enter Studnet Year: \"))\n",
    "    y = \"204M1A020\"+str(i)\n",
    "    ty[y] = [sname,syr]\n",
    "print(ty)"
   ]
  },
  {
   "cell_type": "code",
   "execution_count": 61,
   "id": "c5a159fa",
   "metadata": {},
   "outputs": [
    {
     "name": "stdout",
     "output_type": "stream",
     "text": [
      "{'204M1A0201': ['ramu', 4], '204M1A0202': ['somu', 2], '204M1A0203': ['kiran3', 3]}\n"
     ]
    }
   ],
   "source": [
    "print(ty)"
   ]
  },
  {
   "cell_type": "code",
   "execution_count": 64,
   "id": "9fb7d787",
   "metadata": {},
   "outputs": [
    {
     "data": {
      "text/plain": [
       "['ramu', 4]"
      ]
     },
     "execution_count": 64,
     "metadata": {},
     "output_type": "execute_result"
    }
   ],
   "source": [
    "ty['204M1A0201']"
   ]
  },
  {
   "cell_type": "code",
   "execution_count": 65,
   "id": "e190b08e",
   "metadata": {},
   "outputs": [],
   "source": [
    "cnt = {}"
   ]
  },
  {
   "cell_type": "code",
   "execution_count": 73,
   "id": "eda7c1ed",
   "metadata": {},
   "outputs": [
    {
     "name": "stdout",
     "output_type": "stream",
     "text": [
      "Enter Contact Name: ramu\n",
      "ramu Contact Already Exists\n",
      "{'ramu': 7845896854, 'prasad': 8978458785, 'kiran': 7854785985}\n"
     ]
    }
   ],
   "source": [
    "na = input(\"Enter Contact Name: \")\n",
    "if na not in cnt.keys():\n",
    "    mb = int(input(\"Enter Contact Number: \"))\n",
    "    cnt[na] = mb\n",
    "else:\n",
    "    print(\"{} Contact Already Exists\".format(na))\n",
    "print(cnt)"
   ]
  },
  {
   "cell_type": "code",
   "execution_count": 77,
   "id": "77ab72f5",
   "metadata": {},
   "outputs": [
    {
     "name": "stdout",
     "output_type": "stream",
     "text": [
      "{'sno': [1, 2, 3], 'name': [1, 2, 3]}\n"
     ]
    }
   ],
   "source": [
    "t = ['sno','name']\n",
    "y = [[1,2,3],['ramu','ramesh']]\n",
    "for j in range(len(y)):\n",
    "    if j == 0:\n",
    "        z = dict.fromkeys(t,y[j])\n",
    "print(z)"
   ]
  },
  {
   "cell_type": "code",
   "execution_count": 79,
   "id": "8ae0f1d5",
   "metadata": {},
   "outputs": [
    {
     "name": "stdout",
     "output_type": "stream",
     "text": [
      "sno [1, 2, 3]\n",
      "name ['ramu', 'ramesh']\n"
     ]
    }
   ],
   "source": [
    "for i,j in zip(t,y):\n",
    "    print(i,j)"
   ]
  },
  {
   "cell_type": "code",
   "execution_count": 80,
   "id": "785d07bc",
   "metadata": {},
   "outputs": [
    {
     "name": "stdout",
     "output_type": "stream",
     "text": [
      "{'ramu': 7845896854, 'prasad': 8978458785, 'kiran': 7854785985}\n"
     ]
    }
   ],
   "source": [
    "print(cnt)"
   ]
  },
  {
   "cell_type": "code",
   "execution_count": 81,
   "id": "874bc215",
   "metadata": {},
   "outputs": [
    {
     "name": "stdout",
     "output_type": "stream",
     "text": [
      "ramu\n",
      "prasad\n",
      "kiran\n"
     ]
    }
   ],
   "source": [
    "for i in cnt:\n",
    "    print(i)"
   ]
  },
  {
   "cell_type": "code",
   "execution_count": 82,
   "id": "cfa28b0f",
   "metadata": {},
   "outputs": [
    {
     "name": "stdout",
     "output_type": "stream",
     "text": [
      "ramu\n",
      "prasad\n",
      "kiran\n"
     ]
    }
   ],
   "source": [
    "for i in cnt.keys():\n",
    "    print(i)"
   ]
  },
  {
   "cell_type": "code",
   "execution_count": 85,
   "id": "7096b4b5",
   "metadata": {},
   "outputs": [
    {
     "name": "stdout",
     "output_type": "stream",
     "text": [
      "('ramu', 7845896854)\n",
      "('prasad', 8978458785)\n",
      "('kiran', 7854785985)\n"
     ]
    }
   ],
   "source": [
    "for i in cnt.items():\n",
    "    print(i)"
   ]
  },
  {
   "cell_type": "code",
   "execution_count": 1,
   "id": "498cef06",
   "metadata": {},
   "outputs": [],
   "source": [
    "cnt = {}"
   ]
  },
  {
   "cell_type": "code",
   "execution_count": 14,
   "id": "ee8bc603",
   "metadata": {},
   "outputs": [
    {
     "name": "stdout",
     "output_type": "stream",
     "text": [
      "1.Create User\n",
      "2.Update User\n",
      "3.Delete User\n",
      "4.View User\n",
      "5.Display All Users\n",
      "Enter Your Choice: 5\n",
      "================ Contact List ===============\n",
      "Contact Name    |   Mobile Number\n",
      "----------------------------------\n",
      "ramesh     |     9874857854\n",
      "somu     |     7485965124\n",
      "====================================\n"
     ]
    }
   ],
   "source": [
    "print(\"1.Create User\\n2.Update User\\n3.Delete User\\n4.View User\\n5.Display All Users\")\n",
    "op = int(input(\"Enter Your Choice: \"))\n",
    "if op == 1:\n",
    "    cn = input(\"Enter Your Name: \")\n",
    "    if cn not in cnt.keys():\n",
    "        mb = int(input(\"Enter Your Mobile Number: \"))\n",
    "        if len(str(mb)) == 10:\n",
    "            cnt[cn] = mb\n",
    "            print(\"{} Saved Successfully\".format(cn))\n",
    "        else:\n",
    "            print(\"Please Enter Correct Mobile Number\")\n",
    "    else:\n",
    "        print(\"{} Contact Already Exists\".format(cn))\n",
    "elif op == 2:\n",
    "    na = input(\"Enter Contact Name to Update: \")\n",
    "    if na not in cnt.keys():\n",
    "        print(\"{} Contact Doesnt Exists\".format(na))\n",
    "    else:\n",
    "        mb = int(input(\"Enter Mobile number: \"))\n",
    "        if cnt[na] == mb:\n",
    "            print(\"No Update in Contact Mobile Number\")\n",
    "        else:\n",
    "            if len(str(mb)) == 10:\n",
    "                cnt[na] = mb\n",
    "            else:\n",
    "                print(\"Please Enter Correct Mobile Number\")\n",
    "elif op == 3:\n",
    "    na = input(\"Enter Contact Name to Delete: \")\n",
    "    if na not in cnt.keys():\n",
    "        print(\"{} Contact Doesnt Exists\".format(na))\n",
    "    else:\n",
    "        cnt.pop(na)\n",
    "        print(\"{} Contact Deleted Successfully\".format(na))\n",
    "elif op == 4:\n",
    "    na = input(\"Enter Contact to Display: \")\n",
    "    if na not in cnt.keys():\n",
    "        print(\"{} Contact Doesnt Exists\".format(na))\n",
    "    else:\n",
    "        print(\"Contact Name is: {}\\nContact Mobile Number is: {}\"\n",
    "              .format(na,cnt[na]))\n",
    "elif op == 5:\n",
    "    print(\"================ Contact List ===============\")\n",
    "    print(\"Contact Name    |   Mobile Number\")\n",
    "    print(\"----------------------------------\")\n",
    "    for i,j in cnt.items():\n",
    "        print(\"{}     |     {}\".format(i,j))\n",
    "    print(\"====================================\")\n",
    "else:\n",
    "    print(\"Other Choice\")"
   ]
  },
  {
   "cell_type": "code",
   "execution_count": 91,
   "id": "0cf77490",
   "metadata": {},
   "outputs": [
    {
     "data": {
      "text/plain": [
       "10"
      ]
     },
     "execution_count": 91,
     "metadata": {},
     "output_type": "execute_result"
    }
   ],
   "source": [
    "u = 7898745874\n",
    "len(str(u))"
   ]
  },
  {
   "cell_type": "code",
   "execution_count": 99,
   "id": "006ab82d",
   "metadata": {},
   "outputs": [
    {
     "name": "stdout",
     "output_type": "stream",
     "text": [
      "4654\n",
      "None\n"
     ]
    }
   ],
   "source": [
    "h = {'ramu':7898748578}\n",
    "b = int(input())\n",
    "if h['ramu'] == b:\n",
    "    print(h['ramu'])\n",
    "else:\n",
    "    print(\"None\")"
   ]
  },
  {
   "cell_type": "code",
   "execution_count": 96,
   "id": "707c92bb",
   "metadata": {},
   "outputs": [
    {
     "data": {
      "text/plain": [
       "7898748578"
      ]
     },
     "execution_count": 96,
     "metadata": {},
     "output_type": "execute_result"
    }
   ],
   "source": [
    "h['ramu']"
   ]
  },
  {
   "cell_type": "code",
   "execution_count": 12,
   "id": "439cc897",
   "metadata": {},
   "outputs": [
    {
     "data": {
      "text/plain": [
       "{'ramesh': 9874857854, 'somu': 7485965124}"
      ]
     },
     "execution_count": 12,
     "metadata": {},
     "output_type": "execute_result"
    }
   ],
   "source": [
    "cnt"
   ]
  },
  {
   "cell_type": "code",
   "execution_count": 13,
   "id": "4700553e",
   "metadata": {},
   "outputs": [
    {
     "name": "stdout",
     "output_type": "stream",
     "text": [
      "ramesh => 9874857854 \n",
      "somu => 7485965124 \n"
     ]
    }
   ],
   "source": [
    "for i,j in cnt.items():\n",
    "    print(\"{} => {} \".format(i,j))"
   ]
  },
  {
   "cell_type": "markdown",
   "id": "a78b7c1b",
   "metadata": {},
   "source": [
    "```\n",
    "Input:\n",
    "    10\n",
    "    1\n",
    "    2\n",
    "    3\n",
    "    4\n",
    "    2\n",
    "    1\n",
    "    2\n",
    "    35\n",
    "    2\n",
    "    7\n",
    "Output:\n",
    "    1 => 2\n",
    "    2 => 4\n",
    "    3 => 1\n",
    "    4 => 1\n",
    "    7 => 1\n",
    "    35 => 1\n",
    "```"
   ]
  },
  {
   "cell_type": "markdown",
   "id": "452580b0",
   "metadata": {},
   "source": [
    "## String:\n",
    "    - It can be enclosed with ' or \"\n",
    "    - It can't changes the value if it is changed then the id of string variable will be changed\n",
    "    - Slicing can be done because of index\n",
    "    - It can be typecasted as str()\n",
    "    - It can stores the data in ordered format\n",
    "        "
   ]
  },
  {
   "cell_type": "code",
   "execution_count": 16,
   "id": "8360dcc5",
   "metadata": {},
   "outputs": [
    {
     "name": "stdout",
     "output_type": "stream",
     "text": [
      "this is sample example <class 'str'>\n"
     ]
    }
   ],
   "source": [
    "r = 'this is sample example'\n",
    "print(r,type(r))"
   ]
  },
  {
   "cell_type": "code",
   "execution_count": 17,
   "id": "33e1a710",
   "metadata": {},
   "outputs": [
    {
     "name": "stdout",
     "output_type": "stream",
     "text": [
      "t\n",
      "h\n",
      "i\n",
      "s\n",
      " \n",
      "i\n",
      "s\n",
      " \n",
      "s\n",
      "a\n",
      "m\n",
      "p\n",
      "l\n",
      "e\n",
      " \n",
      "e\n",
      "x\n",
      "a\n",
      "m\n",
      "p\n",
      "l\n",
      "e\n"
     ]
    }
   ],
   "source": [
    "for i in r:\n",
    "    print(i)"
   ]
  },
  {
   "cell_type": "code",
   "execution_count": 19,
   "id": "69fb29d7",
   "metadata": {},
   "outputs": [
    {
     "name": "stdout",
     "output_type": "stream",
     "text": [
      "0 t\n",
      "1 h\n",
      "2 i\n",
      "3 s\n",
      "4  \n",
      "5 i\n",
      "6 s\n",
      "7  \n",
      "8 s\n",
      "9 a\n",
      "10 m\n",
      "11 p\n",
      "12 l\n",
      "13 e\n",
      "14  \n",
      "15 e\n",
      "16 x\n",
      "17 a\n",
      "18 m\n",
      "19 p\n",
      "20 l\n",
      "21 e\n"
     ]
    }
   ],
   "source": [
    "for i in range(len(r)):\n",
    "    print(i,r[i])"
   ]
  },
  {
   "cell_type": "code",
   "execution_count": 20,
   "id": "5d377868",
   "metadata": {},
   "outputs": [
    {
     "name": "stdout",
     "output_type": "stream",
     "text": [
      "['__add__', '__class__', '__contains__', '__delattr__', '__dir__', '__doc__', '__eq__', '__format__', '__ge__', '__getattribute__', '__getitem__', '__getnewargs__', '__gt__', '__hash__', '__init__', '__init_subclass__', '__iter__', '__le__', '__len__', '__lt__', '__mod__', '__mul__', '__ne__', '__new__', '__reduce__', '__reduce_ex__', '__repr__', '__rmod__', '__rmul__', '__setattr__', '__sizeof__', '__str__', '__subclasshook__', 'capitalize', 'casefold', 'center', 'count', 'encode', 'endswith', 'expandtabs', 'find', 'format', 'format_map', 'index', 'isalnum', 'isalpha', 'isascii', 'isdecimal', 'isdigit', 'isidentifier', 'islower', 'isnumeric', 'isprintable', 'isspace', 'istitle', 'isupper', 'join', 'ljust', 'lower', 'lstrip', 'maketrans', 'partition', 'replace', 'rfind', 'rindex', 'rjust', 'rpartition', 'rsplit', 'rstrip', 'split', 'splitlines', 'startswith', 'strip', 'swapcase', 'title', 'translate', 'upper', 'zfill']\n"
     ]
    }
   ],
   "source": [
    "print(dir(str))"
   ]
  },
  {
   "cell_type": "code",
   "execution_count": 27,
   "id": "00db16f8",
   "metadata": {},
   "outputs": [
    {
     "name": "stdout",
     "output_type": "stream",
     "text": [
      "This is an example\n",
      "This Is An Example\n",
      "tHIS iS An exAMpLE\n",
      "THIS IS AN EXAMPLE\n",
      "this is an example\n",
      "this is an example\n"
     ]
    }
   ],
   "source": [
    "g = \"This Is aN EXamPle\"\n",
    "print(g.capitalize())\n",
    "print(g.title())\n",
    "print(g.swapcase())\n",
    "print(g.upper())\n",
    "print(g.lower())\n",
    "print(g.casefold())"
   ]
  },
  {
   "cell_type": "code",
   "execution_count": 31,
   "id": "2c356cc6",
   "metadata": {},
   "outputs": [
    {
     "name": "stdout",
     "output_type": "stream",
     "text": [
      "Example For StringS\n",
      "         Example For StringS\n",
      "Example For StringS    \n"
     ]
    }
   ],
   "source": [
    "t = \"         Example For StringS    \"\n",
    "print(t.strip())\n",
    "print(t.rstrip())\n",
    "print(t.lstrip())"
   ]
  },
  {
   "cell_type": "code",
   "execution_count": 41,
   "id": "de58bf7a",
   "metadata": {},
   "outputs": [
    {
     "name": "stdout",
     "output_type": "stream",
     "text": [
      "['Sample', 'Example', 'for', 'Python', 'Strings']\n",
      "['Sample ', 'xample for Python Strings']\n",
      "['Sample', 'Example', 'for', 'Python', 'Strings']\n",
      "['', 'ample Example for Python ', 'trings']\n",
      "['', 'ample Example for Python ', 'trings']\n"
     ]
    }
   ],
   "source": [
    "f = \"Sample Example for Python Strings\"\n",
    "print(f.split())\n",
    "print(f.split('E'))\n",
    "print(f.rsplit())\n",
    "print(f.rsplit('S'))\n",
    "print(f.split('S'))"
   ]
  },
  {
   "cell_type": "code",
   "execution_count": 34,
   "id": "e518cb91",
   "metadata": {},
   "outputs": [
    {
     "name": "stdout",
     "output_type": "stream",
     "text": [
      "['23', '876', '98', '786', '6', '967']\n"
     ]
    }
   ],
   "source": [
    "k = \"23 876 98 786 6 967\"\n",
    "print(k.split())"
   ]
  },
  {
   "cell_type": "code",
   "execution_count": 36,
   "id": "e9148c78",
   "metadata": {},
   "outputs": [
    {
     "name": "stdout",
     "output_type": "stream",
     "text": [
      "12 45 8, 135 54 545 \n",
      "['12 45 8', ' 135 54 545 '] <class 'list'>\n"
     ]
    }
   ],
   "source": [
    "v = input().split(\",\")\n",
    "print(v,type(v))"
   ]
  },
  {
   "cell_type": "code",
   "execution_count": 44,
   "id": "04d32986",
   "metadata": {},
   "outputs": [
    {
     "name": "stdout",
     "output_type": "stream",
     "text": [
      "['Sample Example for Python Strings']\n"
     ]
    }
   ],
   "source": [
    "print(f.splitlines())"
   ]
  },
  {
   "cell_type": "code",
   "execution_count": 45,
   "id": "c8b8828c",
   "metadata": {},
   "outputs": [
    {
     "name": "stdout",
     "output_type": "stream",
     "text": [
      "['asjdhasd', 'askjdkasd', 'askdkabndxjnvkjnxv', 'dkvbhbxvhbhjvbdvc']\n"
     ]
    }
   ],
   "source": [
    "w = '''asjdhasd\n",
    "askjdkasd\n",
    "askdkabndxjnvkjnxv\n",
    "dkvbhbxvhbhjvbdvc\n",
    "'''\n",
    "print(w.splitlines())"
   ]
  },
  {
   "cell_type": "code",
   "execution_count": 47,
   "id": "9d4c5561",
   "metadata": {},
   "outputs": [
    {
     "name": "stdout",
     "output_type": "stream",
     "text": [
      "Sample Example for Python Strings\n"
     ]
    },
    {
     "ename": "ValueError",
     "evalue": "substring not found",
     "output_type": "error",
     "traceback": [
      "\u001b[1;31m---------------------------------------------------------------------------\u001b[0m",
      "\u001b[1;31mValueError\u001b[0m                                Traceback (most recent call last)",
      "\u001b[1;32m<ipython-input-47-7d44e8fc41db>\u001b[0m in \u001b[0;36m<module>\u001b[1;34m\u001b[0m\n\u001b[0;32m      1\u001b[0m \u001b[0mprint\u001b[0m\u001b[1;33m(\u001b[0m\u001b[0mf\u001b[0m\u001b[1;33m)\u001b[0m\u001b[1;33m\u001b[0m\u001b[1;33m\u001b[0m\u001b[0m\n\u001b[1;32m----> 2\u001b[1;33m \u001b[0mprint\u001b[0m\u001b[1;33m(\u001b[0m\u001b[0mf\u001b[0m\u001b[1;33m.\u001b[0m\u001b[0mindex\u001b[0m\u001b[1;33m(\u001b[0m\u001b[1;34m'q'\u001b[0m\u001b[1;33m)\u001b[0m\u001b[1;33m)\u001b[0m\u001b[1;33m\u001b[0m\u001b[1;33m\u001b[0m\u001b[0m\n\u001b[0m",
      "\u001b[1;31mValueError\u001b[0m: substring not found"
     ]
    }
   ],
   "source": [
    "print(f)\n",
    "print(f.index('q'))"
   ]
  },
  {
   "cell_type": "code",
   "execution_count": 53,
   "id": "8c2d78ac",
   "metadata": {},
   "outputs": [
    {
     "name": "stdout",
     "output_type": "stream",
     "text": [
      "Sample Example for Python Strings\n",
      "5\n",
      "13\n",
      "20\n",
      "-1\n",
      "32\n",
      "-1\n"
     ]
    }
   ],
   "source": [
    "print(f)\n",
    "print(f.index('e'))\n",
    "print(f.rindex('e'))\n",
    "print(f.find('y'))\n",
    "print(f.find('Z'))\n",
    "print(f.rfind('s'))\n",
    "print(f.rfind('/'))"
   ]
  },
  {
   "cell_type": "code",
   "execution_count": 58,
   "id": "e8e3e5d5",
   "metadata": {},
   "outputs": [
    {
     "name": "stdout",
     "output_type": "stream",
     "text": [
      "Sample Example for Python Strings\n",
      "2\n",
      "0000000Sample Example for Python Strings\n"
     ]
    }
   ],
   "source": [
    "print(f)\n",
    "print(f.count('S'))\n",
    "print(f.zfill(40))"
   ]
  },
  {
   "cell_type": "code",
   "execution_count": 63,
   "id": "507fa32e",
   "metadata": {},
   "outputs": [
    {
     "name": "stdout",
     "output_type": "stream",
     "text": [
      "   adakjd asd asd                                 \n",
      "jasvavsd asj ajc                                  \n",
      "                                    adakjd asd asd\n",
      "                              jasvavsd asj ajc    \n"
     ]
    }
   ],
   "source": [
    "t = \"   adakjd asd asd\"\n",
    "r = \"jasvavsd asj ajc    \"\n",
    "print(t.ljust(50))\n",
    "print(r.ljust(50))\n",
    "print(t.rjust(50))\n",
    "print(r.rjust(50))"
   ]
  },
  {
   "cell_type": "code",
   "execution_count": 67,
   "id": "972b7cb7",
   "metadata": {},
   "outputs": [
    {
     "name": "stdout",
     "output_type": "stream",
     "text": [
      "sdgsdgsdg\n"
     ]
    }
   ],
   "source": [
    "d = \"sdg\"\n",
    "print(d*3)"
   ]
  },
  {
   "cell_type": "code",
   "execution_count": 82,
   "id": "231821cf",
   "metadata": {},
   "outputs": [
    {
     "name": "stdout",
     "output_type": "stream",
     "text": [
      "--------------------|--------------------\n",
      "Contact Name        | Mobile Number       \n",
      "--------------------|--------------------\n",
      "Ramu                | 7857857485          \n",
      "Lokesh              | 7857857485          \n"
     ]
    }
   ],
   "source": [
    "print('-'*20 + \"|\" +'-'*20)\n",
    "print(\"Contact Name\".ljust(20)+\"|\"+\" \"+\"Mobile Number\".ljust(20))\n",
    "print('-'*20 + \"|\" +'-'*20)\n",
    "print(\"Ramu\".ljust(20)+\"|\"+\" \"+\"7857857485\".ljust(20))\n",
    "print(\"Lokesh\".ljust(20)+\"|\"+\" \"+\"7857857485\".ljust(20))"
   ]
  },
  {
   "cell_type": "code",
   "execution_count": 89,
   "id": "133b7f5d",
   "metadata": {},
   "outputs": [
    {
     "name": "stdout",
     "output_type": "stream",
     "text": [
      "False\n",
      "False\n"
     ]
    }
   ],
   "source": [
    "r = \"78846465465\"\n",
    "print(r.startswith('8'))\n",
    "print(r.endswith('0'))"
   ]
  },
  {
   "cell_type": "code",
   "execution_count": 91,
   "id": "ad29b662",
   "metadata": {},
   "outputs": [
    {
     "name": "stdout",
     "output_type": "stream",
     "text": [
      "78846465465\n",
      "7-8-8-4-6-4-6-5-4-6-5\n"
     ]
    }
   ],
   "source": [
    "print(r)\n",
    "r = \"-\".join(r)\n",
    "print(r)"
   ]
  },
  {
   "cell_type": "code",
   "execution_count": 101,
   "id": "97eec59c",
   "metadata": {},
   "outputs": [
    {
     "name": "stdout",
     "output_type": "stream",
     "text": [
      "ramesh kumar\n",
      "k.com,u.com,m.com,a.com,r\n"
     ]
    }
   ],
   "source": [
    "h = input().split()\n",
    "# print(h)\n",
    "for i in range(len(h)):\n",
    "    d = \".com,\".join(h[i])\n",
    "print(d)"
   ]
  },
  {
   "cell_type": "code",
   "execution_count": 104,
   "id": "4605511c",
   "metadata": {},
   "outputs": [
    {
     "name": "stdout",
     "output_type": "stream",
     "text": [
      "ramesh.com\n",
      "kumar.com\n"
     ]
    }
   ],
   "source": [
    "for j in h:\n",
    "    m = j+\".com\"\n",
    "    print(m)"
   ]
  },
  {
   "cell_type": "code",
   "execution_count": 105,
   "id": "e5ee4ed7",
   "metadata": {},
   "outputs": [
    {
     "data": {
      "text/plain": [
       "['ramesh', 'kumar']"
      ]
     },
     "execution_count": 105,
     "metadata": {},
     "output_type": "execute_result"
    }
   ],
   "source": [
    "h"
   ]
  },
  {
   "cell_type": "code",
   "execution_count": 106,
   "id": "93289bd4",
   "metadata": {},
   "outputs": [
    {
     "data": {
      "text/plain": [
       "'ramesh.com,kumar'"
      ]
     },
     "execution_count": 106,
     "metadata": {},
     "output_type": "execute_result"
    }
   ],
   "source": [
    "\".com,\".join(h)"
   ]
  },
  {
   "cell_type": "markdown",
   "id": "905d4e47",
   "metadata": {},
   "source": [
    "## Set:\n",
    "    - It can be represented as {} but it should included with any single character or a value\n",
    "    - It cant allows the duplicate elements\n",
    "    - It can stores data in ordered but in print it will displays as unordered format\n",
    "    - It can be typecasted as set()\n",
    "    - Slicing cant be done be cause of no index\n",
    "    - It can changes the values of a set"
   ]
  },
  {
   "cell_type": "code",
   "execution_count": 107,
   "id": "f2e998b9",
   "metadata": {},
   "outputs": [
    {
     "name": "stdout",
     "output_type": "stream",
     "text": [
      "{} <class 'dict'>\n",
      "{'s'} <class 'set'>\n"
     ]
    }
   ],
   "source": [
    "e = {}\n",
    "w = {'s'}\n",
    "print(e,type(e))\n",
    "print(w,type(w))"
   ]
  },
  {
   "cell_type": "code",
   "execution_count": 110,
   "id": "1b14d5f6",
   "metadata": {},
   "outputs": [
    {
     "name": "stdout",
     "output_type": "stream",
     "text": [
      "{1, 456, 45.0, 78, '1', '45.120'}\n"
     ]
    }
   ],
   "source": [
    "q = {1,78,45.000,456,'45.120','1',1,1,1,1,1,1,1}\n",
    "print(q)"
   ]
  },
  {
   "cell_type": "code",
   "execution_count": 111,
   "id": "e52729ef",
   "metadata": {},
   "outputs": [
    {
     "name": "stdout",
     "output_type": "stream",
     "text": [
      "['__and__', '__class__', '__contains__', '__delattr__', '__dir__', '__doc__', '__eq__', '__format__', '__ge__', '__getattribute__', '__gt__', '__hash__', '__iand__', '__init__', '__init_subclass__', '__ior__', '__isub__', '__iter__', '__ixor__', '__le__', '__len__', '__lt__', '__ne__', '__new__', '__or__', '__rand__', '__reduce__', '__reduce_ex__', '__repr__', '__ror__', '__rsub__', '__rxor__', '__setattr__', '__sizeof__', '__str__', '__sub__', '__subclasshook__', '__xor__', 'add', 'clear', 'copy', 'difference', 'difference_update', 'discard', 'intersection', 'intersection_update', 'isdisjoint', 'issubset', 'issuperset', 'pop', 'remove', 'symmetric_difference', 'symmetric_difference_update', 'union', 'update']\n"
     ]
    }
   ],
   "source": [
    "print(dir(set))"
   ]
  },
  {
   "cell_type": "code",
   "execution_count": 114,
   "id": "c96f81c2",
   "metadata": {},
   "outputs": [
    {
     "name": "stdout",
     "output_type": "stream",
     "text": [
      "{1, 3, 200, 456, 45}\n",
      "{1, 3, 200, 456, 45}\n",
      "{0.12, 1, 3, 200, 456, 45}\n"
     ]
    },
    {
     "ename": "TypeError",
     "evalue": "add() takes exactly one argument (2 given)",
     "output_type": "error",
     "traceback": [
      "\u001b[1;31m---------------------------------------------------------------------------\u001b[0m",
      "\u001b[1;31mTypeError\u001b[0m                                 Traceback (most recent call last)",
      "\u001b[1;32m<ipython-input-114-7e4b13e4afd1>\u001b[0m in \u001b[0;36m<module>\u001b[1;34m\u001b[0m\n\u001b[0;32m      5\u001b[0m \u001b[0my\u001b[0m\u001b[1;33m.\u001b[0m\u001b[0madd\u001b[0m\u001b[1;33m(\u001b[0m\u001b[1;36m0.12\u001b[0m\u001b[1;33m)\u001b[0m\u001b[1;33m\u001b[0m\u001b[1;33m\u001b[0m\u001b[0m\n\u001b[0;32m      6\u001b[0m \u001b[0mprint\u001b[0m\u001b[1;33m(\u001b[0m\u001b[0my\u001b[0m\u001b[1;33m)\u001b[0m\u001b[1;33m\u001b[0m\u001b[1;33m\u001b[0m\u001b[0m\n\u001b[1;32m----> 7\u001b[1;33m \u001b[0my\u001b[0m\u001b[1;33m.\u001b[0m\u001b[0madd\u001b[0m\u001b[1;33m(\u001b[0m\u001b[1;36m23\u001b[0m\u001b[1;33m,\u001b[0m\u001b[1;36m89\u001b[0m\u001b[1;33m)\u001b[0m\u001b[1;33m\u001b[0m\u001b[1;33m\u001b[0m\u001b[0m\n\u001b[0m\u001b[0;32m      8\u001b[0m \u001b[0mprint\u001b[0m\u001b[1;33m(\u001b[0m\u001b[0my\u001b[0m\u001b[1;33m)\u001b[0m\u001b[1;33m\u001b[0m\u001b[1;33m\u001b[0m\u001b[0m\n",
      "\u001b[1;31mTypeError\u001b[0m: add() takes exactly one argument (2 given)"
     ]
    }
   ],
   "source": [
    "y = {1,45,200,3,456}\n",
    "print(y)\n",
    "y.add(1)\n",
    "print(y)\n",
    "y.add(0.12)\n",
    "print(y)\n",
    "y.add(23,89)\n",
    "print(y)"
   ]
  },
  {
   "cell_type": "code",
   "execution_count": 116,
   "id": "1d2d5ff3",
   "metadata": {},
   "outputs": [
    {
     "name": "stdout",
     "output_type": "stream",
     "text": [
      "{0.12, 1, 3, 200, 456, 45}\n"
     ]
    },
    {
     "ename": "TypeError",
     "evalue": "unhashable type: 'list'",
     "output_type": "error",
     "traceback": [
      "\u001b[1;31m---------------------------------------------------------------------------\u001b[0m",
      "\u001b[1;31mTypeError\u001b[0m                                 Traceback (most recent call last)",
      "\u001b[1;32m<ipython-input-116-f8ebe7b93d7d>\u001b[0m in \u001b[0;36m<module>\u001b[1;34m\u001b[0m\n\u001b[0;32m      1\u001b[0m \u001b[0mprint\u001b[0m\u001b[1;33m(\u001b[0m\u001b[0my\u001b[0m\u001b[1;33m)\u001b[0m\u001b[1;33m\u001b[0m\u001b[1;33m\u001b[0m\u001b[0m\n\u001b[0;32m      2\u001b[0m \u001b[0mp\u001b[0m \u001b[1;33m=\u001b[0m\u001b[1;33m[\u001b[0m\u001b[1;36m45\u001b[0m\u001b[1;33m,\u001b[0m\u001b[1;34m'prasad'\u001b[0m\u001b[1;33m,\u001b[0m\u001b[1;36m456\u001b[0m\u001b[1;33m,\u001b[0m\u001b[1;36m8\u001b[0m\u001b[1;33m]\u001b[0m\u001b[1;33m\u001b[0m\u001b[1;33m\u001b[0m\u001b[0m\n\u001b[1;32m----> 3\u001b[1;33m \u001b[0my\u001b[0m\u001b[1;33m.\u001b[0m\u001b[0madd\u001b[0m\u001b[1;33m(\u001b[0m\u001b[0mp\u001b[0m\u001b[1;33m)\u001b[0m\u001b[1;33m\u001b[0m\u001b[1;33m\u001b[0m\u001b[0m\n\u001b[0m\u001b[0;32m      4\u001b[0m \u001b[0mprint\u001b[0m\u001b[1;33m(\u001b[0m\u001b[0my\u001b[0m\u001b[1;33m)\u001b[0m\u001b[1;33m\u001b[0m\u001b[1;33m\u001b[0m\u001b[0m\n",
      "\u001b[1;31mTypeError\u001b[0m: unhashable type: 'list'"
     ]
    }
   ],
   "source": [
    "print(y)\n",
    "p =[45,'prasad',456,8]\n",
    "y.add(p)\n",
    "print(y)"
   ]
  },
  {
   "cell_type": "code",
   "execution_count": 119,
   "id": "a1a66173",
   "metadata": {},
   "outputs": [
    {
     "name": "stdout",
     "output_type": "stream",
     "text": [
      "{1, 2, 5, 6, 7, 8, 51, 54}\n",
      "{1, 354, 2, 5, 7, 435, 53, 351}\n",
      "{1, 2, 354, 5, 6, 7, 8, 51, 435, 53, 54, 351}\n",
      "{1, 2, 5, 6, 7, 8, 51, 54}\n",
      "{1, 354, 2, 5, 7, 435, 53, 351}\n"
     ]
    }
   ],
   "source": [
    "q = {1,5,7,8,6,51,54,2}\n",
    "c = {5,53,1,53,53,435,7,351,354,2}\n",
    "print(q)\n",
    "print(c)\n",
    "print(q.union(c))\n",
    "print(q)\n",
    "print(c)"
   ]
  },
  {
   "cell_type": "code",
   "execution_count": 120,
   "id": "d4b591dc",
   "metadata": {},
   "outputs": [
    {
     "name": "stdout",
     "output_type": "stream",
     "text": [
      "{1, 2, 5, 6, 7, 8, 51, 54}\n",
      "{1, 354, 2, 5, 7, 435, 53, 351}\n",
      "{1, 2, 5, 7}\n",
      "{1, 2, 5, 6, 7, 8, 51, 54}\n",
      "{1, 354, 2, 5, 7, 435, 53, 351}\n"
     ]
    }
   ],
   "source": [
    "print(q)\n",
    "print(c)\n",
    "print(q.intersection(c))\n",
    "print(q)\n",
    "print(c)"
   ]
  },
  {
   "cell_type": "code",
   "execution_count": 121,
   "id": "f7ba6cf3",
   "metadata": {},
   "outputs": [
    {
     "name": "stdout",
     "output_type": "stream",
     "text": [
      "{1, 2, 5, 6, 7, 8, 51, 54}\n",
      "{1, 354, 2, 5, 7, 435, 53, 351}\n",
      "{8, 54, 51, 6}\n",
      "{1, 2, 5, 6, 7, 8, 51, 54}\n",
      "{1, 354, 2, 5, 7, 435, 53, 351}\n"
     ]
    }
   ],
   "source": [
    "print(q)\n",
    "print(c)\n",
    "print(q.difference(c))\n",
    "print(q)\n",
    "print(c)"
   ]
  },
  {
   "cell_type": "code",
   "execution_count": 123,
   "id": "59723ca6",
   "metadata": {},
   "outputs": [
    {
     "name": "stdout",
     "output_type": "stream",
     "text": [
      "{1, 2, 5, 6, 7, 8, 51, 54}\n",
      "{1, 354, 2, 5, 7, 435, 53, 351}\n",
      "{354, 6, 8, 51, 435, 53, 54, 351}\n",
      "{1, 2, 5, 6, 7, 8, 51, 54}\n",
      "{1, 354, 2, 5, 7, 435, 53, 351}\n"
     ]
    }
   ],
   "source": [
    "print(q)\n",
    "print(c)\n",
    "print(c.symmetric_difference(q))\n",
    "print(q)\n",
    "print(c)"
   ]
  },
  {
   "cell_type": "code",
   "execution_count": 125,
   "id": "249f2654",
   "metadata": {},
   "outputs": [
    {
     "name": "stdout",
     "output_type": "stream",
     "text": [
      "{2, 5, 6, 7, 8, 51, 54}\n",
      "2\n",
      "{5, 6, 7, 8, 51, 54}\n"
     ]
    }
   ],
   "source": [
    "print(q)\n",
    "print(q.pop())\n",
    "print(q)"
   ]
  },
  {
   "cell_type": "code",
   "execution_count": 126,
   "id": "bf772b9d",
   "metadata": {},
   "outputs": [
    {
     "name": "stdout",
     "output_type": "stream",
     "text": [
      "{5, 6, 7, 8, 51, 54}\n"
     ]
    },
    {
     "ename": "TypeError",
     "evalue": "pop() takes no arguments (1 given)",
     "output_type": "error",
     "traceback": [
      "\u001b[1;31m---------------------------------------------------------------------------\u001b[0m",
      "\u001b[1;31mTypeError\u001b[0m                                 Traceback (most recent call last)",
      "\u001b[1;32m<ipython-input-126-07b35ff69d1f>\u001b[0m in \u001b[0;36m<module>\u001b[1;34m\u001b[0m\n\u001b[0;32m      1\u001b[0m \u001b[0mprint\u001b[0m\u001b[1;33m(\u001b[0m\u001b[0mq\u001b[0m\u001b[1;33m)\u001b[0m\u001b[1;33m\u001b[0m\u001b[1;33m\u001b[0m\u001b[0m\n\u001b[1;32m----> 2\u001b[1;33m \u001b[0mprint\u001b[0m\u001b[1;33m(\u001b[0m\u001b[0mq\u001b[0m\u001b[1;33m.\u001b[0m\u001b[0mpop\u001b[0m\u001b[1;33m(\u001b[0m\u001b[1;36m8\u001b[0m\u001b[1;33m)\u001b[0m\u001b[1;33m)\u001b[0m\u001b[1;33m\u001b[0m\u001b[1;33m\u001b[0m\u001b[0m\n\u001b[0m\u001b[0;32m      3\u001b[0m \u001b[0mprint\u001b[0m\u001b[1;33m(\u001b[0m\u001b[0mq\u001b[0m\u001b[1;33m)\u001b[0m\u001b[1;33m\u001b[0m\u001b[1;33m\u001b[0m\u001b[0m\n",
      "\u001b[1;31mTypeError\u001b[0m: pop() takes no arguments (1 given)"
     ]
    }
   ],
   "source": [
    "print(q)\n",
    "print(q.pop(8))\n",
    "print(q)"
   ]
  },
  {
   "cell_type": "code",
   "execution_count": 127,
   "id": "32bed8a9",
   "metadata": {},
   "outputs": [
    {
     "name": "stdout",
     "output_type": "stream",
     "text": [
      "{5, 6, 7, 8, 51, 54}\n"
     ]
    },
    {
     "ename": "TypeError",
     "evalue": "remove() takes exactly one argument (0 given)",
     "output_type": "error",
     "traceback": [
      "\u001b[1;31m---------------------------------------------------------------------------\u001b[0m",
      "\u001b[1;31mTypeError\u001b[0m                                 Traceback (most recent call last)",
      "\u001b[1;32m<ipython-input-127-1130c1f83580>\u001b[0m in \u001b[0;36m<module>\u001b[1;34m\u001b[0m\n\u001b[0;32m      1\u001b[0m \u001b[0mprint\u001b[0m\u001b[1;33m(\u001b[0m\u001b[0mq\u001b[0m\u001b[1;33m)\u001b[0m\u001b[1;33m\u001b[0m\u001b[1;33m\u001b[0m\u001b[0m\n\u001b[1;32m----> 2\u001b[1;33m \u001b[0mprint\u001b[0m\u001b[1;33m(\u001b[0m\u001b[0mq\u001b[0m\u001b[1;33m.\u001b[0m\u001b[0mremove\u001b[0m\u001b[1;33m(\u001b[0m\u001b[1;33m)\u001b[0m\u001b[1;33m)\u001b[0m\u001b[1;33m\u001b[0m\u001b[1;33m\u001b[0m\u001b[0m\n\u001b[0m\u001b[0;32m      3\u001b[0m \u001b[0mprint\u001b[0m\u001b[1;33m(\u001b[0m\u001b[0mq\u001b[0m\u001b[1;33m)\u001b[0m\u001b[1;33m\u001b[0m\u001b[1;33m\u001b[0m\u001b[0m\n",
      "\u001b[1;31mTypeError\u001b[0m: remove() takes exactly one argument (0 given)"
     ]
    }
   ],
   "source": [
    "print(q)\n",
    "print(q.remove())\n",
    "print(q)"
   ]
  },
  {
   "cell_type": "code",
   "execution_count": 129,
   "id": "fe54996c",
   "metadata": {},
   "outputs": [
    {
     "name": "stdout",
     "output_type": "stream",
     "text": [
      "{5, 6, 7, 8, 51, 54}\n",
      "None\n",
      "{5, 6, 7, 51, 54}\n"
     ]
    }
   ],
   "source": [
    "print(q)\n",
    "print(q.remove(8))\n",
    "print(q)"
   ]
  },
  {
   "cell_type": "code",
   "execution_count": 130,
   "id": "6dd3b295",
   "metadata": {},
   "outputs": [
    {
     "name": "stdout",
     "output_type": "stream",
     "text": [
      "{5, 6, 7, 51, 54}\n"
     ]
    },
    {
     "ename": "KeyError",
     "evalue": "'prasad'",
     "output_type": "error",
     "traceback": [
      "\u001b[1;31m---------------------------------------------------------------------------\u001b[0m",
      "\u001b[1;31mKeyError\u001b[0m                                  Traceback (most recent call last)",
      "\u001b[1;32m<ipython-input-130-1f63ccd78f1b>\u001b[0m in \u001b[0;36m<module>\u001b[1;34m\u001b[0m\n\u001b[0;32m      1\u001b[0m \u001b[0mprint\u001b[0m\u001b[1;33m(\u001b[0m\u001b[0mq\u001b[0m\u001b[1;33m)\u001b[0m\u001b[1;33m\u001b[0m\u001b[1;33m\u001b[0m\u001b[0m\n\u001b[1;32m----> 2\u001b[1;33m \u001b[0mprint\u001b[0m\u001b[1;33m(\u001b[0m\u001b[0mq\u001b[0m\u001b[1;33m.\u001b[0m\u001b[0mremove\u001b[0m\u001b[1;33m(\u001b[0m\u001b[1;34m'prasad'\u001b[0m\u001b[1;33m)\u001b[0m\u001b[1;33m)\u001b[0m\u001b[1;33m\u001b[0m\u001b[1;33m\u001b[0m\u001b[0m\n\u001b[0m\u001b[0;32m      3\u001b[0m \u001b[0mprint\u001b[0m\u001b[1;33m(\u001b[0m\u001b[0mq\u001b[0m\u001b[1;33m)\u001b[0m\u001b[1;33m\u001b[0m\u001b[1;33m\u001b[0m\u001b[0m\n",
      "\u001b[1;31mKeyError\u001b[0m: 'prasad'"
     ]
    }
   ],
   "source": [
    "print(q)\n",
    "print(q.remove('prasad'))\n",
    "print(q)"
   ]
  },
  {
   "cell_type": "code",
   "execution_count": 132,
   "id": "ba91739d",
   "metadata": {},
   "outputs": [
    {
     "name": "stdout",
     "output_type": "stream",
     "text": [
      "{5, 7}\n",
      "{1, 354, 2, 5, 7, 435, 53, 351}\n",
      "{5, 7}\n",
      "{1, 354, 2, 5, 7, 435, 53, 351}\n"
     ]
    }
   ],
   "source": [
    "print(q)\n",
    "print(c)\n",
    "q.intersection_update(c)\n",
    "print(q)\n",
    "print(c)"
   ]
  },
  {
   "cell_type": "code",
   "execution_count": 133,
   "id": "1fc9e174",
   "metadata": {},
   "outputs": [
    {
     "name": "stdout",
     "output_type": "stream",
     "text": [
      "{65, 1, 3, 4, 5, 6, 10, 654}\n",
      "{1, 3, 4, 5, 40, 8, 45, 78, 46, 465, 54}\n"
     ]
    }
   ],
   "source": [
    "y = {1,4,3,10,65,5,654,6,5}\n",
    "a = {1,3,4,5,78,465,45,46,40,54,8}\n",
    "print(y)\n",
    "print(a)"
   ]
  },
  {
   "cell_type": "code",
   "execution_count": 134,
   "id": "67f63840",
   "metadata": {},
   "outputs": [
    {
     "name": "stdout",
     "output_type": "stream",
     "text": [
      "{65, 1, 3, 4, 5, 6, 10, 654}\n",
      "{1, 3, 4, 5, 40, 8, 45, 78, 46, 465, 54}\n",
      "{1, 3, 4, 5}\n",
      "{1, 3, 4, 5, 40, 8, 45, 78, 46, 465, 54}\n"
     ]
    }
   ],
   "source": [
    "print(y)\n",
    "print(a)\n",
    "y.intersection_update(a)\n",
    "print(y)\n",
    "print(a)"
   ]
  },
  {
   "cell_type": "code",
   "execution_count": 135,
   "id": "b79b3090",
   "metadata": {},
   "outputs": [
    {
     "name": "stdout",
     "output_type": "stream",
     "text": [
      "{1, 3, 4, 5}\n",
      "{1, 3, 4, 5, 40, 8, 45, 78, 46, 465, 54}\n",
      "{1, 3, 4, 5}\n",
      "{40, 8, 45, 78, 46, 465, 54}\n"
     ]
    }
   ],
   "source": [
    "print(y)\n",
    "print(a)\n",
    "a.difference_update(y)\n",
    "print(y)\n",
    "print(a)"
   ]
  },
  {
   "cell_type": "code",
   "execution_count": 136,
   "id": "3ae0d9b8",
   "metadata": {},
   "outputs": [
    {
     "name": "stdout",
     "output_type": "stream",
     "text": [
      "{1, 3, 4, 5}\n",
      "{40, 8, 45, 78, 46, 465, 54}\n",
      "{1, 3, 4, 5}\n",
      "{1, 4, 3, 5, 40, 8, 45, 78, 46, 465, 54}\n"
     ]
    }
   ],
   "source": [
    "print(y)\n",
    "print(a)\n",
    "a.symmetric_difference_update(y)\n",
    "print(y)\n",
    "print(a)"
   ]
  },
  {
   "cell_type": "code",
   "execution_count": 141,
   "id": "871c9cc5",
   "metadata": {},
   "outputs": [
    {
     "name": "stdout",
     "output_type": "stream",
     "text": [
      "{1, 3, 4, 5}\n",
      "{1, 4, 3, 5, 8, 45, 78, 46, 465, 54}\n",
      "{1, 3, 4, 5}\n",
      "{1, 4, 3, 5, 8, 45, 78, 46, 465, 54}\n"
     ]
    }
   ],
   "source": [
    "print(y)\n",
    "print(a)\n",
    "a.discard(40)\n",
    "print(y)\n",
    "print(a)"
   ]
  },
  {
   "cell_type": "code",
   "execution_count": 143,
   "id": "db13ed57",
   "metadata": {},
   "outputs": [
    {
     "name": "stdout",
     "output_type": "stream",
     "text": [
      "{1, 4, 3, 5, 8, 45, 78, 46, 465, 54}\n",
      "{1, 4, 3, 5, 8, 45, 78, 46, 465, 54}\n"
     ]
    }
   ],
   "source": [
    "print(a)\n",
    "a.discard(75)\n",
    "print(a)"
   ]
  },
  {
   "cell_type": "code",
   "execution_count": null,
   "id": "6a847777",
   "metadata": {},
   "outputs": [],
   "source": []
  }
 ],
 "metadata": {
  "kernelspec": {
   "display_name": "Python 3",
   "language": "python",
   "name": "python3"
  },
  "language_info": {
   "codemirror_mode": {
    "name": "ipython",
    "version": 3
   },
   "file_extension": ".py",
   "mimetype": "text/x-python",
   "name": "python",
   "nbconvert_exporter": "python",
   "pygments_lexer": "ipython3",
   "version": "3.7.5"
  }
 },
 "nbformat": 4,
 "nbformat_minor": 5
}
