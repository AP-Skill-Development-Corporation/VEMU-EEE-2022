{
 "cells": [
  {
   "cell_type": "markdown",
   "id": "ef192f7f",
   "metadata": {},
   "source": [
    "## Output Formatting:\n",
    "    - ,\n",
    "    - %\n",
    "    - .format => (pyformat.info)"
   ]
  },
  {
   "cell_type": "code",
   "execution_count": 4,
   "id": "af1e2d2a",
   "metadata": {},
   "outputs": [
    {
     "name": "stdout",
     "output_type": "stream",
     "text": [
      "Enter First value: 45\n",
      "Enter Secomd value: 278\n",
      "Entered First Number is:  45 and second value is :  278\n",
      "Entered First Number is: 45 and second value is: 278\n",
      "Entered First Number is: 45 and second value is: 278\n"
     ]
    }
   ],
   "source": [
    "n,m = input(\"Enter First value: \"),input(\"Enter Secomd value: \")\n",
    "print(\"Entered First Number is: \",n,\"and second value is : \",m)\n",
    "print(\"Entered First Number is: %s and second value is: %s\"%(n,m))\n",
    "print(\"Entered First Number is: {} and second value is: {}\"\n",
    "      .format(n,m))"
   ]
  },
  {
   "cell_type": "markdown",
   "id": "517b1842",
   "metadata": {},
   "source": [
    "## Operators:\n",
    "    - Arithmetic => +,-,*,/,%,floor Division(//),(power)**\n",
    "    - Logical => AND,OR,NOT,XOR\n",
    "    - Bitwise => &&,||,~,>>,<<\n",
    "    - Assignment => +=,-=,//=,/=,%=,*=\n",
    "    - Relational => >,<,<=,>=,!=,==\n",
    "    - Membership => in,not in\n",
    "    - Identity => is,is not"
   ]
  },
  {
   "cell_type": "markdown",
   "id": "3a394c60",
   "metadata": {},
   "source": [
    "## Type Casting:\n",
    "        - To change the data type from one data type to another data type\n",
    "        - int()\n",
    "        - float()\n",
    "        - str()\n",
    "        - All Data Structures like [list,tuple,set,dictionary]"
   ]
  },
  {
   "cell_type": "code",
   "execution_count": 8,
   "id": "d0f08fc5",
   "metadata": {},
   "outputs": [
    {
     "name": "stdout",
     "output_type": "stream",
     "text": [
      "r\n"
     ]
    },
    {
     "ename": "ValueError",
     "evalue": "invalid literal for int() with base 10: 'r'",
     "output_type": "error",
     "traceback": [
      "\u001b[1;31m-------------------------------------------------------------------------\u001b[0m",
      "\u001b[1;31mValueError\u001b[0m                              Traceback (most recent call last)",
      "\u001b[1;32m<ipython-input-8-871da03982f5>\u001b[0m in \u001b[0;36m<module>\u001b[1;34m\u001b[0m\n\u001b[0;32m      1\u001b[0m \u001b[0mn\u001b[0m \u001b[1;33m=\u001b[0m \u001b[0minput\u001b[0m\u001b[1;33m(\u001b[0m\u001b[1;33m)\u001b[0m\u001b[1;33m\u001b[0m\u001b[1;33m\u001b[0m\u001b[0m\n\u001b[1;32m----> 2\u001b[1;33m \u001b[0mprint\u001b[0m\u001b[1;33m(\u001b[0m\u001b[1;34m\"Entered Value is: {}\"\u001b[0m\u001b[1;33m.\u001b[0m\u001b[0mformat\u001b[0m\u001b[1;33m(\u001b[0m\u001b[0mint\u001b[0m\u001b[1;33m(\u001b[0m\u001b[0mn\u001b[0m\u001b[1;33m)\u001b[0m\u001b[1;33m+\u001b[0m\u001b[1;36m12\u001b[0m\u001b[1;33m)\u001b[0m\u001b[1;33m)\u001b[0m\u001b[1;33m\u001b[0m\u001b[1;33m\u001b[0m\u001b[0m\n\u001b[0m\u001b[0;32m      3\u001b[0m \u001b[0mprint\u001b[0m\u001b[1;33m(\u001b[0m\u001b[0mn\u001b[0m\u001b[1;33m,\u001b[0m\u001b[0mtype\u001b[0m\u001b[1;33m(\u001b[0m\u001b[0mn\u001b[0m\u001b[1;33m)\u001b[0m\u001b[1;33m)\u001b[0m\u001b[1;33m\u001b[0m\u001b[1;33m\u001b[0m\u001b[0m\n",
      "\u001b[1;31mValueError\u001b[0m: invalid literal for int() with base 10: 'r'"
     ]
    }
   ],
   "source": [
    "n = input()\n",
    "print(\"Entered Value is: {}\".format(int(n)+12))\n",
    "print(n,type(n))"
   ]
  },
  {
   "cell_type": "code",
   "execution_count": 11,
   "id": "a37c8109",
   "metadata": {},
   "outputs": [
    {
     "name": "stdout",
     "output_type": "stream",
     "text": [
      "Enter a number: 45.0000\n"
     ]
    },
    {
     "ename": "ValueError",
     "evalue": "invalid literal for int() with base 10: '45.0000'",
     "output_type": "error",
     "traceback": [
      "\u001b[1;31m-------------------------------------------------------------------------\u001b[0m",
      "\u001b[1;31mValueError\u001b[0m                              Traceback (most recent call last)",
      "\u001b[1;32m<ipython-input-11-ba8bb05320a4>\u001b[0m in \u001b[0;36m<module>\u001b[1;34m\u001b[0m\n\u001b[1;32m----> 1\u001b[1;33m \u001b[0mm\u001b[0m \u001b[1;33m=\u001b[0m \u001b[0mint\u001b[0m\u001b[1;33m(\u001b[0m\u001b[0minput\u001b[0m\u001b[1;33m(\u001b[0m\u001b[1;34m\"Enter a number: \"\u001b[0m\u001b[1;33m)\u001b[0m\u001b[1;33m)\u001b[0m\u001b[1;33m\u001b[0m\u001b[1;33m\u001b[0m\u001b[0m\n\u001b[0m\u001b[0;32m      2\u001b[0m \u001b[0mprint\u001b[0m\u001b[1;33m(\u001b[0m\u001b[0mm\u001b[0m\u001b[1;33m,\u001b[0m\u001b[0mtype\u001b[0m\u001b[1;33m(\u001b[0m\u001b[0mm\u001b[0m\u001b[1;33m)\u001b[0m\u001b[1;33m)\u001b[0m\u001b[1;33m\u001b[0m\u001b[1;33m\u001b[0m\u001b[0m\n",
      "\u001b[1;31mValueError\u001b[0m: invalid literal for int() with base 10: '45.0000'"
     ]
    }
   ],
   "source": [
    "m = int(input(\"Enter a number: \"))\n",
    "print(m,type(m))"
   ]
  },
  {
   "cell_type": "code",
   "execution_count": 13,
   "id": "a898b9f1",
   "metadata": {},
   "outputs": [
    {
     "name": "stdout",
     "output_type": "stream",
     "text": [
      "Enter a number: 4578.05451354\n",
      "4578.05451354 <class 'float'>\n"
     ]
    }
   ],
   "source": [
    "m = float(input(\"Enter a number: \"))\n",
    "print(m,type(m))"
   ]
  },
  {
   "cell_type": "markdown",
   "id": "3614936c",
   "metadata": {},
   "source": [
    "```\n",
    "Input:\n",
    "    65\n",
    "Output:\n",
    "    Entered Number is: 65 and its floating value is: 65.00\n",
    "    Entered Number is: 65 and its string format is: '65'\n",
    "```"
   ]
  },
  {
   "cell_type": "code",
   "execution_count": 16,
   "id": "2e1fb082",
   "metadata": {},
   "outputs": [
    {
     "name": "stdout",
     "output_type": "stream",
     "text": [
      "65\n",
      "Entered Number is: 65 and its floating value is: 65.0\n",
      "Entered Number is: 65 and its String value is: '65'\n"
     ]
    }
   ],
   "source": [
    "n = int(input())\n",
    "print(\"Entered Number is: {} and its floating value is: {}\"\n",
    "      .format(n,float(n)))\n",
    "print(\"Entered Number is: {} and its String value is: '{}'\"\n",
    "      .format(n,str(n)))"
   ]
  },
  {
   "cell_type": "markdown",
   "id": "324cc531",
   "metadata": {},
   "source": [
    "## Conditional Statements:\n",
    "    - To check whether a given condition is Either True or False\n",
    "    - if => single case\n",
    "    - if-else => 2 cases\n",
    "    - nested if => 3 or more cases\n",
    "    - elif => 3 or more n number of cases"
   ]
  },
  {
   "cell_type": "markdown",
   "id": "da4612a1",
   "metadata": {},
   "source": [
    "## If:\n",
    "    Syntax:\n",
    "        if condition:\n",
    "            //stmnts"
   ]
  },
  {
   "cell_type": "code",
   "execution_count": 18,
   "id": "cdfe8255",
   "metadata": {},
   "outputs": [
    {
     "name": "stdout",
     "output_type": "stream",
     "text": [
      "45\n",
      "Given number 45 is equal to 45\n"
     ]
    }
   ],
   "source": [
    "d = int(input())\n",
    "if d == 45:\n",
    "    print(\"Given number {} is equal to 45\".format(d))"
   ]
  },
  {
   "cell_type": "code",
   "execution_count": 25,
   "id": "449f9980",
   "metadata": {},
   "outputs": [
    {
     "name": "stdout",
     "output_type": "stream",
     "text": [
      "----------Create User-----------\n",
      "Create Username: rajesh\n",
      "rajesh User Created Successfully\n",
      "----------Check Usernames-----------\n",
      "Enter Your Name: rajesh\n",
      "Entered Name rajesh is equal to rajesh\n"
     ]
    }
   ],
   "source": [
    "print(\"----------Create User-----------\")\n",
    "j = input(\"Create Username: \")\n",
    "print(\"{} User Created Successfully\".format(j))\n",
    "print(\"----------Check Usernames-----------\")\n",
    "na = input(\"Enter Your Name: \")\n",
    "if na == j:\n",
    "    print(\"Entered Name {} is equal to {}\".format(na,j))"
   ]
  },
  {
   "cell_type": "markdown",
   "id": "1831758e",
   "metadata": {},
   "source": [
    "## If-else:\n",
    "    Syntax:\n",
    "        if (condition-1):\n",
    "            //stmnt-1\n",
    "        else:\n",
    "            //stmnt-2"
   ]
  },
  {
   "cell_type": "code",
   "execution_count": 29,
   "id": "5178ac39",
   "metadata": {},
   "outputs": [
    {
     "name": "stdout",
     "output_type": "stream",
     "text": [
      "Enter a number: 2\n",
      "Entered Number 2 is lesser than 100\n"
     ]
    }
   ],
   "source": [
    "m = int(input(\"Enter a number: \"))\n",
    "if m > 100:\n",
    "    print(\"Entered Number {} is greater than 100\".format(m))\n",
    "else:\n",
    "    print(\"Entered Number {} is lesser than 100\".format(m))"
   ]
  },
  {
   "cell_type": "markdown",
   "id": "3b1664a8",
   "metadata": {},
   "source": [
    "## Nested If\n",
    "    Syntax:\n",
    "        For this else and nested if or elif is optional case\n",
    "        if condition-1:\n",
    "            if condition-2:\n",
    "                //stmnt-1\n",
    "            else:\n",
    "                //stmnt-2\n",
    "        else:\n",
    "            //stmnt-3"
   ]
  },
  {
   "cell_type": "code",
   "execution_count": 32,
   "id": "1e4f5995",
   "metadata": {},
   "outputs": [
    {
     "name": "stdout",
     "output_type": "stream",
     "text": [
      "Enter a number: 800\n",
      "Entered Number 800 is Greater than 500\n"
     ]
    }
   ],
   "source": [
    "n = int(input(\"Enter a number: \"))\n",
    "if n>100:\n",
    "    if n<500:\n",
    "        print(\"Entered Number {} is Lesser than 500\".format(n))\n",
    "    else:\n",
    "        print(\"Entered Number {} is Greater than 500\".format(n))\n",
    "else:\n",
    "    print(\"Entered Number {} is Lesser than 100\".format(n))"
   ]
  },
  {
   "cell_type": "markdown",
   "id": "905ae851",
   "metadata": {},
   "source": [
    "## Elif\n",
    "    Syntax:\n",
    "        if condition-1:\n",
    "            //stmnt-1\n",
    "        elif condition-2:\n",
    "            //stmnt-2\n",
    "            |       |\n",
    "        elif condition-n:\n",
    "            //stmnt-n\n",
    "        else:\n",
    "            //stmnt-(n-1)"
   ]
  },
  {
   "cell_type": "code",
   "execution_count": 6,
   "id": "f5c58267",
   "metadata": {},
   "outputs": [
    {
     "name": "stdout",
     "output_type": "stream",
     "text": [
      "175\n",
      "Enter number 175 is divisible by 5\n"
     ]
    }
   ],
   "source": [
    "n=int(input())\n",
    "if n==35:\n",
    "    print(\"Enter Number {} equal to 35\".format(n))\n",
    "elif n%2==0:\n",
    "    print(\"Enter Number {} is even\".format(n))\n",
    "elif n%5==0:\n",
    "    print(\"Enter number {} is divisible by 5\".format(n))\n",
    "elif n>35 and n<100:\n",
    "    print(\"Enter number {} is in a range between 35 and 100\".format(n))\n",
    "else:\n",
    "    print(\"Enter Number {} is Greater than 100\".format(n))"
   ]
  },
  {
   "cell_type": "code",
   "execution_count": null,
   "id": "65d5c8ae",
   "metadata": {},
   "outputs": [],
   "source": []
  }
 ],
 "metadata": {
  "kernelspec": {
   "display_name": "Python 3",
   "language": "python",
   "name": "python3"
  },
  "language_info": {
   "codemirror_mode": {
    "name": "ipython",
    "version": 3
   },
   "file_extension": ".py",
   "mimetype": "text/x-python",
   "name": "python",
   "nbconvert_exporter": "python",
   "pygments_lexer": "ipython3",
   "version": "3.7.5"
  }
 },
 "nbformat": 4,
 "nbformat_minor": 5
}
