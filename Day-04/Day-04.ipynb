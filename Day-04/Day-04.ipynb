{
 "cells": [
  {
   "cell_type": "markdown",
   "id": "4766761e",
   "metadata": {},
   "source": [
    "## Control Statements or Loops or Iterations or Repititions\n",
    "    - To Control the flow of execution\n",
    "    - for => For known ranges\n",
    "    - while => For known and unknown ranges"
   ]
  },
  {
   "cell_type": "markdown",
   "id": "26d0bc4b",
   "metadata": {},
   "source": [
    "## for\n",
    "    Syntax:\n",
    "        for iterationvariablename in range(start,stop,step):\n",
    "            //stmnts\n",
    "        \n",
    "        for iterationvariablename in iterator:\n",
    "            //stmnts\n",
    "        Iterators: List,Tuple,Set,String and Dictionary"
   ]
  },
  {
   "cell_type": "markdown",
   "id": "9c6d4dde",
   "metadata": {},
   "source": [
    "## Range method\n",
    "    - range(stop)\n",
    "        - By default it starts with 0\n",
    "        - It stops a value at stop-1\n",
    "        - By default it increments with 1\n",
    "        - Ex:\n",
    "            range(5):\n",
    "            0 1 2 3 4\n",
    "    - range(start,stop):\n",
    "        - By default it starts with exactly start value\n",
    "        - It stops a value at stop-1\n",
    "        - By default it increments with 1\n",
    "        - Ex:\n",
    "            range(10,16):\n",
    "            10 11 12 13 14 15\n",
    "    - range(start,stop,step):\n",
    "        - By default it starts with exactly start value\n",
    "        - It stops a value at stop-1\n",
    "        - By default it increments/decrements with step value\n",
    "        - Ex:\n",
    "            range(15,20,2):\n",
    "            15 17 19\n",
    "            \n",
    "            range(20,10,-3):\n",
    "            20 17 14 11\n"
   ]
  },
  {
   "cell_type": "code",
   "execution_count": 4,
   "id": "8c3dabcd",
   "metadata": {},
   "outputs": [
    {
     "name": "stdout",
     "output_type": "stream",
     "text": [
      "Enter a number: 10\n",
      "0 1 2 3 4 5 6 7 8 9 "
     ]
    }
   ],
   "source": [
    "n = int(input(\"Enter a number: \"))\n",
    "for ramu in range(n):\n",
    "    print(ramu,end=\" \")"
   ]
  },
  {
   "cell_type": "code",
   "execution_count": 9,
   "id": "7dd8f81d",
   "metadata": {},
   "outputs": [
    {
     "name": "stdout",
     "output_type": "stream",
     "text": [
      "Enter a range: 10\n",
      "5 9\n"
     ]
    }
   ],
   "source": [
    "m = int(input(\"Enter a range: \"))\n",
    "for j in range(m):\n",
    "    if j == 5:\n",
    "        print(j,end=\" \")\n",
    "print(j)"
   ]
  },
  {
   "cell_type": "code",
   "execution_count": 11,
   "id": "b0454246",
   "metadata": {},
   "outputs": [
    {
     "name": "stdout",
     "output_type": "stream",
     "text": [
      "Enter starting range: 4\n",
      "Enter stopping range: 10\n",
      "4 5 6 7 8 9 "
     ]
    }
   ],
   "source": [
    "st = int(input(\"Enter starting range: \"))\n",
    "stp = int(input(\"Enter stopping range: \"))\n",
    "for i in range(st,stp):\n",
    "    print(i,end=\" \")"
   ]
  },
  {
   "cell_type": "code",
   "execution_count": 29,
   "id": "a73e444d",
   "metadata": {},
   "outputs": [
    {
     "name": "stdout",
     "output_type": "stream",
     "text": [
      "Enter starting range: 100\n",
      "Enter stopping range: 120\n",
      "120 119 118 117 116 115 114 113 112 111 110 109 108 107 106 105 104 103 102 101 100 "
     ]
    }
   ],
   "source": [
    "st = int(input(\"Enter starting range: \"))\n",
    "stp = int(input(\"Enter stopping range: \"))\n",
    "for i in range(st,stp+1):\n",
    "    print(stp-i+st,end=\" \")"
   ]
  },
  {
   "cell_type": "code",
   "execution_count": 28,
   "id": "40c0c14b",
   "metadata": {},
   "outputs": [
    {
     "name": "stdout",
     "output_type": "stream",
     "text": [
      "Enter a range: 10\n",
      "10 9 8 7 6 5 4 3 2 1 "
     ]
    }
   ],
   "source": [
    "n = int(input(\"Enter a range: \"))\n",
    "for j in range(n):\n",
    "    print(n-j,end=\" \")"
   ]
  },
  {
   "cell_type": "code",
   "execution_count": null,
   "id": "dfde18e1",
   "metadata": {},
   "outputs": [],
   "source": [
    "Input:\n",
    "        18\n",
    "        22\n",
    "Output:\n",
    "        224M1A0218\n",
    "        214M1A0219\n",
    "        204M1A0220\n",
    "        194M1A0221\n",
    "        184M1A0222"
   ]
  },
  {
   "cell_type": "code",
   "execution_count": 38,
   "id": "40a8ac2e",
   "metadata": {},
   "outputs": [
    {
     "name": "stdout",
     "output_type": "stream",
     "text": [
      "18\n",
      "22\n",
      "224M1A0218\n",
      "214M1A0219\n",
      "204M1A0220\n",
      "194M1A0221\n",
      "184M1A0222\n"
     ]
    }
   ],
   "source": [
    "n = int(input())\n",
    "m = int(input())\n",
    "for i in range(n,m+1):\n",
    "    print(\"{}4M1A02{}\".format(m-i+n,i))"
   ]
  },
  {
   "cell_type": "code",
   "execution_count": 45,
   "id": "6d2d1022",
   "metadata": {},
   "outputs": [
    {
     "name": "stdout",
     "output_type": "stream",
     "text": [
      "-20\n",
      "10\n",
      "2\n",
      "-20 -18 -16 -14 -12 -10 -8 -6 -4 -2 0 2 4 6 8 "
     ]
    }
   ],
   "source": [
    "n = int(input())\n",
    "m = int(input())\n",
    "g = int(input())\n",
    "for j in range(n,m,g):\n",
    "    print(j,end=\" \")"
   ]
  },
  {
   "cell_type": "markdown",
   "id": "27714583",
   "metadata": {},
   "source": [
    "## While:\n",
    "    Syntax:\n",
    "        initialisation\n",
    "        while condition:\n",
    "            //stmnts\n",
    "            incr/decr"
   ]
  },
  {
   "cell_type": "code",
   "execution_count": 2,
   "id": "6a8d2889",
   "metadata": {},
   "outputs": [
    {
     "name": "stdout",
     "output_type": "stream",
     "text": [
      "20\n",
      "10 11 12 13 14 15 16 17 18 19 "
     ]
    }
   ],
   "source": [
    "n = int(input())\n",
    "i = 10\n",
    "while i!=n:\n",
    "    print(i,end=\" \")\n",
    "    i +=1"
   ]
  },
  {
   "cell_type": "code",
   "execution_count": 5,
   "id": "34634bc6",
   "metadata": {},
   "outputs": [
    {
     "name": "stdout",
     "output_type": "stream",
     "text": [
      "40\n",
      "40 39 38 37 36 35 34 33 32 31 30 29 28 27 26 25 24 23 22 21 20 19 18 17 16 15 14 13 12 11 10 9 8 7 6 5 4 3 2 1 0 "
     ]
    }
   ],
   "source": [
    "m = int(input())\n",
    "while m!=-1:\n",
    "    print(m,end=\" \")\n",
    "    m -=1"
   ]
  },
  {
   "cell_type": "code",
   "execution_count": 3,
   "id": "fc1485df",
   "metadata": {},
   "outputs": [
    {
     "name": "stdout",
     "output_type": "stream",
     "text": [
      "1\n",
      "First Value\n",
      "500\n"
     ]
    }
   ],
   "source": [
    "while True:\n",
    "    n = int(input())\n",
    "    if n == 1:\n",
    "        print(\"First Value\")\n",
    "    elif n == 20:\n",
    "        print(\"Values are greater than 20\")\n",
    "    elif n<=50:\n",
    "        print(\"Values are lower than 50\")\n",
    "    elif n == 500:\n",
    "        break\n",
    "    else:\n",
    "        print(\"Values are not equal to 20 and 50\")"
   ]
  },
  {
   "cell_type": "code",
   "execution_count": 10,
   "id": "ad973e1b",
   "metadata": {},
   "outputs": [
    {
     "name": "stdout",
     "output_type": "stream",
     "text": [
      "7854\n",
      "Given number 7854 and its reverse is: 4587\n"
     ]
    }
   ],
   "source": [
    "n = int(input())\n",
    "r = 0\n",
    "print(\"Given number {} and\".format(n),end=\" \")\n",
    "while n!=0:\n",
    "    r = r*10+n%10\n",
    "    n //=10\n",
    "print(\"its reverse is: {}\".format(r))"
   ]
  },
  {
   "cell_type": "code",
   "execution_count": 14,
   "id": "1cd532f2",
   "metadata": {},
   "outputs": [
    {
     "name": "stdout",
     "output_type": "stream",
     "text": [
      "124875\n",
      "Given number 124875 and its even numbers are:  2 4 8 "
     ]
    }
   ],
   "source": [
    "n = int(input())\n",
    "r = 0\n",
    "print(\"Given number {} and its even numbers are: \".format(n),end=\" \")\n",
    "while n!=0:\n",
    "    k = n%10\n",
    "    if k%2==0:\n",
    "        r = r*10+k\n",
    "    n //=10\n",
    "while r!=0:\n",
    "    print(\"{}\".format(r%10),end=\" \")\n",
    "    r //=10"
   ]
  },
  {
   "cell_type": "code",
   "execution_count": 16,
   "id": "dea6107c",
   "metadata": {},
   "outputs": [
    {
     "name": "stdout",
     "output_type": "stream",
     "text": [
      "127653162538912741268652347527385465347652364\n",
      "Given number is: 127653162538912741268652347527385465347652364 Digits count is: 45\n"
     ]
    }
   ],
   "source": [
    "n = int(input())\n",
    "c = 0\n",
    "print(\"Given number is: {}\".format(n),end=\" \")\n",
    "while n!=0:\n",
    "    n//=10\n",
    "    c +=1\n",
    "print(\"Digits count is: {}\".format(c))"
   ]
  },
  {
   "cell_type": "markdown",
   "id": "c367dd44",
   "metadata": {},
   "source": [
    "## Jumping Statements:\n",
    "    - break => It exists from the loop\n",
    "    - continue => It skips a value from a loop\n",
    "    - pass => For future enhancements development and it works like continue also\n",
    "    - return => It returns a single or n number of values while using functions."
   ]
  },
  {
   "cell_type": "markdown",
   "id": "72319634",
   "metadata": {},
   "source": [
    "## Break"
   ]
  },
  {
   "cell_type": "code",
   "execution_count": 17,
   "id": "0965cab0",
   "metadata": {},
   "outputs": [
    {
     "name": "stdout",
     "output_type": "stream",
     "text": [
      "20\n",
      "0 1 2 3 4 "
     ]
    }
   ],
   "source": [
    "n = int(input())\n",
    "for i in range(n):\n",
    "    if i == 5:\n",
    "        break\n",
    "    else:\n",
    "        print(i,end=\" \")"
   ]
  },
  {
   "cell_type": "code",
   "execution_count": 18,
   "id": "1bf40359",
   "metadata": {},
   "outputs": [
    {
     "name": "stdout",
     "output_type": "stream",
     "text": [
      "20\n",
      "0 1 2 3 4 6 7 8 9 10 11 12 13 14 15 16 17 18 19 "
     ]
    }
   ],
   "source": [
    "n = int(input())\n",
    "for i in range(n):\n",
    "    if i == 5:\n",
    "        continue\n",
    "    else:\n",
    "        print(i,end=\" \")"
   ]
  },
  {
   "cell_type": "code",
   "execution_count": 20,
   "id": "cd4630e2",
   "metadata": {},
   "outputs": [
    {
     "name": "stdout",
     "output_type": "stream",
     "text": [
      "10\n",
      "0 2 4 6 8 "
     ]
    }
   ],
   "source": [
    "n = int(input())\n",
    "for i in range(n):\n",
    "    if i%2!=0:\n",
    "        continue\n",
    "    else:\n",
    "        print(i,end=\" \")"
   ]
  },
  {
   "cell_type": "code",
   "execution_count": 23,
   "id": "ef173ecd",
   "metadata": {},
   "outputs": [
    {
     "name": "stdout",
     "output_type": "stream",
     "text": [
      "10\n",
      "0 2 4 6 8 "
     ]
    }
   ],
   "source": [
    "n = int(input())\n",
    "for i in range(n):\n",
    "    if i%2!=0:\n",
    "        pass\n",
    "    else:\n",
    "        print(i,end=\" \")"
   ]
  },
  {
   "cell_type": "markdown",
   "id": "a4633df0",
   "metadata": {},
   "source": [
    "## Inner Loop:\n",
    "    - Loop within a loop"
   ]
  },
  {
   "cell_type": "code",
   "execution_count": 27,
   "id": "8494f770",
   "metadata": {},
   "outputs": [
    {
     "name": "stdout",
     "output_type": "stream",
     "text": [
      "3\n",
      "00 01 02 \n",
      "10 11 12 \n",
      "20 21 22 \n"
     ]
    }
   ],
   "source": [
    "n = int(input())\n",
    "for i in range(n):\n",
    "    for j in range(n):\n",
    "        print(\"{}{}\".format(i,j),end=\" \")\n",
    "    print()"
   ]
  },
  {
   "cell_type": "code",
   "execution_count": 32,
   "id": "1c1a32b2",
   "metadata": {},
   "outputs": [
    {
     "name": "stdout",
     "output_type": "stream",
     "text": [
      "4\n",
      "* * * * \n",
      "* * * * \n",
      "* * * * \n",
      "* * * * \n"
     ]
    }
   ],
   "source": [
    "n = int(input())\n",
    "for i in range(n):\n",
    "    for j in range(n):\n",
    "        print(\"*\",end=\" \")\n",
    "    print()"
   ]
  },
  {
   "cell_type": "code",
   "execution_count": 33,
   "id": "f456cfc2",
   "metadata": {},
   "outputs": [
    {
     "name": "stdout",
     "output_type": "stream",
     "text": [
      "5\n",
      "* \n",
      "* * \n",
      "* * * \n",
      "* * * * \n",
      "* * * * * \n"
     ]
    }
   ],
   "source": [
    "n = int(input())\n",
    "for i in range(n):\n",
    "    for j in range(i+1):\n",
    "        print(\"*\",end=\" \")\n",
    "    print()"
   ]
  },
  {
   "cell_type": "markdown",
   "id": "dac585c2",
   "metadata": {},
   "source": [
    "```\n",
    "Input:\n",
    "        3\n",
    "Output:\n",
    "    * * *\n",
    "    *   *\n",
    "    * * *\n",
    "```"
   ]
  },
  {
   "cell_type": "code",
   "execution_count": null,
   "id": "691018b5",
   "metadata": {},
   "outputs": [],
   "source": []
  }
 ],
 "metadata": {
  "kernelspec": {
   "display_name": "Python 3",
   "language": "python",
   "name": "python3"
  },
  "language_info": {
   "codemirror_mode": {
    "name": "ipython",
    "version": 3
   },
   "file_extension": ".py",
   "mimetype": "text/x-python",
   "name": "python",
   "nbconvert_exporter": "python",
   "pygments_lexer": "ipython3",
   "version": "3.7.5"
  }
 },
 "nbformat": 4,
 "nbformat_minor": 5
}
